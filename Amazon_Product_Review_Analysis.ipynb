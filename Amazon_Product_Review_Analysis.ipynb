{
  "nbformat": 4,
  "nbformat_minor": 0,
  "metadata": {
    "colab": {
      "name": "Amazon_Product_Review_Analysis.ipynb",
      "version": "0.3.2",
      "provenance": [],
      "collapsed_sections": [
        "JI-FUx6z63bj",
        "aYSoD8ys54FT",
        "saCVvnvsWLjZ",
        "nBMBfEleV2hX",
        "YGZzKQ7QWGvs",
        "yAoG75MuQ4iz",
        "LOQ0iMxZSvXS",
        "widCmo2zSeKe",
        "WmxbcKza_8ct",
        "B-GJNTimSO0g",
        "Jq8pZBaCSRfB",
        "2LA2XvbR_9cj",
        "gUbVEDhwSs7y",
        "gUZkE36lPJNt",
        "_-uwHjBshNV1"
      ],
      "include_colab_link": true
    },
    "kernelspec": {
      "name": "python3",
      "display_name": "Python 3"
    }
  },
  "cells": [
    {
      "cell_type": "markdown",
      "metadata": {
        "id": "view-in-github",
        "colab_type": "text"
      },
      "source": [
        "<a href=\"https://colab.research.google.com/github/BeverlyHuang/amazon_review/blob/master/Amazon_Product_Review_Analysis.ipynb\" target=\"_parent\"><img src=\"https://colab.research.google.com/assets/colab-badge.svg\" alt=\"Open In Colab\"/></a>"
      ]
    },
    {
      "cell_type": "markdown",
      "metadata": {
        "id": "pAU_QVKQWU0e",
        "colab_type": "text"
      },
      "source": [
        "#Amazon_Product_Review_Analysis"
      ]
    },
    {
      "cell_type": "markdown",
      "metadata": {
        "id": "JI-FUx6z63bj",
        "colab_type": "text"
      },
      "source": [
        "##Prepare data from url"
      ]
    },
    {
      "cell_type": "code",
      "metadata": {
        "id": "SztZLT636ddP",
        "colab_type": "code",
        "outputId": "0e3e7505-712b-47af-8e1b-07e6aab8d018",
        "colab": {
          "base_uri": "https://localhost:8080/",
          "height": 68
        }
      },
      "source": [
        "import urllib.request\n",
        "\n",
        "print('Beginning file download with urllib2...')\n",
        "\n",
        "url = 'http://snap.stanford.edu/data/amazon/productGraph/categoryFiles/reviews_Health_and_Personal_Care_5.json.gz'  \n",
        "urllib.request.urlretrieve(url, 'reviews_Health_and_Personal_Care_5.json.gz')  "
      ],
      "execution_count": 0,
      "outputs": [
        {
          "output_type": "stream",
          "text": [
            "Beginning file download with urllib2...\n"
          ],
          "name": "stdout"
        },
        {
          "output_type": "execute_result",
          "data": {
            "text/plain": [
              "('reviews_Health_and_Personal_Care_5.json.gz',\n",
              " <http.client.HTTPMessage at 0x7ff28098f978>)"
            ]
          },
          "metadata": {
            "tags": []
          },
          "execution_count": 3
        }
      ]
    },
    {
      "cell_type": "code",
      "metadata": {
        "id": "dGfpjzh66GEI",
        "colab_type": "code",
        "colab": {}
      },
      "source": [
        "import pandas as pd\n",
        "import gzip\n",
        "\n",
        "def parse(path):\n",
        "  g = gzip.open(path, 'rb')\n",
        "  for l in g:\n",
        "    yield eval(l)\n",
        "\n",
        "def getDF(path):\n",
        "  i = 0\n",
        "  df = {}\n",
        "  for d in parse(path):\n",
        "    df[i] = d\n",
        "    i += 1\n",
        "  return pd.DataFrame.from_dict(df, orient='index')\n",
        "\n",
        "df = getDF(\"reviews_Health_and_Personal_Care_5.json.gz\")\n"
      ],
      "execution_count": 0,
      "outputs": []
    },
    {
      "cell_type": "code",
      "metadata": {
        "colab_type": "code",
        "id": "qSU8kqRT61uh",
        "colab": {}
      },
      "source": [
        "review = pd.DataFrame({'reviewerid':df['reviewerID'],'reviewText':df['reviewText'],'overall':df['overall']})"
      ],
      "execution_count": 0,
      "outputs": []
    },
    {
      "cell_type": "code",
      "metadata": {
        "colab_type": "code",
        "outputId": "4e501c11-9263-407a-fc20-12c4dc454c75",
        "id": "Tq7KeOf961ul",
        "colab": {
          "base_uri": "https://localhost:8080/",
          "height": 204
        }
      },
      "source": [
        "review.head()"
      ],
      "execution_count": 0,
      "outputs": [
        {
          "output_type": "execute_result",
          "data": {
            "text/html": [
              "<div>\n",
              "<style scoped>\n",
              "    .dataframe tbody tr th:only-of-type {\n",
              "        vertical-align: middle;\n",
              "    }\n",
              "\n",
              "    .dataframe tbody tr th {\n",
              "        vertical-align: top;\n",
              "    }\n",
              "\n",
              "    .dataframe thead th {\n",
              "        text-align: right;\n",
              "    }\n",
              "</style>\n",
              "<table border=\"1\" class=\"dataframe\">\n",
              "  <thead>\n",
              "    <tr style=\"text-align: right;\">\n",
              "      <th></th>\n",
              "      <th>reviewerid</th>\n",
              "      <th>reviewText</th>\n",
              "      <th>overall</th>\n",
              "    </tr>\n",
              "  </thead>\n",
              "  <tbody>\n",
              "    <tr>\n",
              "      <th>0</th>\n",
              "      <td>ALC5GH8CAMAI7</td>\n",
              "      <td>This is a great little gadget to have around. ...</td>\n",
              "      <td>5.0</td>\n",
              "    </tr>\n",
              "    <tr>\n",
              "      <th>1</th>\n",
              "      <td>AHKSURW85PJUE</td>\n",
              "      <td>I would recommend this for a travel magnifier ...</td>\n",
              "      <td>4.0</td>\n",
              "    </tr>\n",
              "    <tr>\n",
              "      <th>2</th>\n",
              "      <td>A38RMU1Y5TDP9</td>\n",
              "      <td>What I liked was the quality of the lens and t...</td>\n",
              "      <td>4.0</td>\n",
              "    </tr>\n",
              "    <tr>\n",
              "      <th>3</th>\n",
              "      <td>A1XZUG7DFXXOS4</td>\n",
              "      <td>Love the Great point light pocket magnifier!  ...</td>\n",
              "      <td>4.0</td>\n",
              "    </tr>\n",
              "    <tr>\n",
              "      <th>4</th>\n",
              "      <td>A1MS3M7M7AM13X</td>\n",
              "      <td>This is very nice. You pull out on the magnifi...</td>\n",
              "      <td>5.0</td>\n",
              "    </tr>\n",
              "  </tbody>\n",
              "</table>\n",
              "</div>"
            ],
            "text/plain": [
              "       reviewerid                                         reviewText  overall\n",
              "0   ALC5GH8CAMAI7  This is a great little gadget to have around. ...      5.0\n",
              "1   AHKSURW85PJUE  I would recommend this for a travel magnifier ...      4.0\n",
              "2   A38RMU1Y5TDP9  What I liked was the quality of the lens and t...      4.0\n",
              "3  A1XZUG7DFXXOS4  Love the Great point light pocket magnifier!  ...      4.0\n",
              "4  A1MS3M7M7AM13X  This is very nice. You pull out on the magnifi...      5.0"
            ]
          },
          "metadata": {
            "tags": []
          },
          "execution_count": 6
        }
      ]
    },
    {
      "cell_type": "markdown",
      "metadata": {
        "id": "aYSoD8ys54FT",
        "colab_type": "text"
      },
      "source": [
        "##Transform with TF-IDF"
      ]
    },
    {
      "cell_type": "markdown",
      "metadata": {
        "id": "saCVvnvsWLjZ",
        "colab_type": "text"
      },
      "source": [
        "###Pre-processing data - retain meaningful words"
      ]
    },
    {
      "cell_type": "code",
      "metadata": {
        "id": "iCL3v5eDZi6A",
        "colab_type": "code",
        "outputId": "b6c2e8a5-a403-46be-dad4-c43ca9d11dd2",
        "colab": {
          "base_uri": "https://localhost:8080/",
          "height": 68
        }
      },
      "source": [
        "import gensim\n",
        "import nltk.stem as stemmer\n",
        "\n",
        "from gensim.utils import simple_preprocess\n",
        "from gensim.parsing.preprocessing import STOPWORDS\n",
        "from nltk.stem import WordNetLemmatizer, SnowballStemmer\n",
        "from nltk.stem.porter import *\n",
        "import numpy as np\n",
        "np.random.seed(2018)\n",
        "import nltk\n",
        "nltk.download('wordnet')"
      ],
      "execution_count": 0,
      "outputs": [
        {
          "output_type": "stream",
          "text": [
            "[nltk_data] Downloading package wordnet to /root/nltk_data...\n",
            "[nltk_data]   Unzipping corpora/wordnet.zip.\n"
          ],
          "name": "stdout"
        },
        {
          "output_type": "execute_result",
          "data": {
            "text/plain": [
              "True"
            ]
          },
          "metadata": {
            "tags": []
          },
          "execution_count": 7
        }
      ]
    },
    {
      "cell_type": "code",
      "metadata": {
        "id": "z56ctrK0ZliV",
        "colab_type": "code",
        "colab": {}
      },
      "source": [
        "def prep(review):   # returns a string in which the elements of sequence have been joined by str separator\n",
        "    review = review.lower()    \n",
        "    return \"\".join(review)\n",
        "\n",
        "def lemmatize_stemming(text):\n",
        "    return WordNetLemmatizer().lemmatize(text, pos='v')\n",
        "\n",
        "def preprocess(text):\n",
        "    result = []\n",
        "    for token in gensim.utils.simple_preprocess(text): # convert a document into a list of tokens\n",
        "        if token not in gensim.parsing.preprocessing.STOPWORDS and len(token) > 3: # remove stopwords and words appearing less than 3 times\n",
        "            result.append(lemmatize_stemming(token))\n",
        "    return \" \".join(result)\n"
      ],
      "execution_count": 0,
      "outputs": []
    },
    {
      "cell_type": "code",
      "metadata": {
        "id": "_DG77_JdZufr",
        "colab_type": "code",
        "outputId": "2bf4b332-43e1-4ba9-b240-2173ebea86fc",
        "colab": {
          "base_uri": "https://localhost:8080/",
          "height": 119
        }
      },
      "source": [
        "#checking\n",
        "doc_sample = '''product's liked eating candies'''  #review[review['reviewerid'] == 'ALC5GH8CAMAI7'].values[0][1]\n",
        "print('original document: ')\n",
        "words = []\n",
        "for word in doc_sample.split(' '):\n",
        "    words.append(word)\n",
        "print(words)\n",
        "print('\\n\\n tokenized and lemmatized document: ')\n",
        "print(preprocess(doc_sample))"
      ],
      "execution_count": 0,
      "outputs": [
        {
          "output_type": "stream",
          "text": [
            "original document: \n",
            "[\"product's\", 'liked', 'eating', 'candies']\n",
            "\n",
            "\n",
            " tokenized and lemmatized document: \n",
            "product like eat candy\n"
          ],
          "name": "stdout"
        }
      ]
    },
    {
      "cell_type": "code",
      "metadata": {
        "id": "WXnhNUhpdlf9",
        "colab_type": "code",
        "outputId": "3dc0a231-8f01-4408-debc-3ad7546442ad",
        "colab": {
          "base_uri": "https://localhost:8080/",
          "height": 204
        }
      },
      "source": [
        "review['reviewText'] = review['reviewText'].map(prep)\n",
        "review['reviewText'] = review['reviewText'].map(preprocess)\n",
        "review['reviewText'][:10]"
      ],
      "execution_count": 0,
      "outputs": [
        {
          "output_type": "execute_result",
          "data": {
            "text/plain": [
              "0    great little gadget look splinter use light gr...\n",
              "1    recommend travel magnifier occasional read rea...\n",
              "2    like quality lens build light lens discernable...\n",
              "3    love great point light pocket magnifier work g...\n",
              "4    nice pull magnifier want light come slide reco...\n",
              "5    light come item pull easier plastic bookmark m...\n",
              "6    lightweight efficient good point batteries mon...\n",
              "7    buy road trip try interpret map have strain ey...\n",
              "8    screen magnifier small look read text go work ...\n",
              "9    pocket magnifier nice compact slide feature ma...\n",
              "Name: reviewText, dtype: object"
            ]
          },
          "metadata": {
            "tags": []
          },
          "execution_count": 10
        }
      ]
    },
    {
      "cell_type": "code",
      "metadata": {
        "id": "wC2_l0kkKCil",
        "colab_type": "code",
        "outputId": "9b01f7cf-7d7f-42df-ed16-d86518c8ce78",
        "colab": {
          "base_uri": "https://localhost:8080/",
          "height": 235
        }
      },
      "source": [
        "review['overall'] = review['overall'].apply(lambda x: 1 if (x>=4) else 0)\n",
        "review.set_index('reviewerid', inplace = True)\n",
        "review.head()"
      ],
      "execution_count": 0,
      "outputs": [
        {
          "output_type": "execute_result",
          "data": {
            "text/html": [
              "<div>\n",
              "<style scoped>\n",
              "    .dataframe tbody tr th:only-of-type {\n",
              "        vertical-align: middle;\n",
              "    }\n",
              "\n",
              "    .dataframe tbody tr th {\n",
              "        vertical-align: top;\n",
              "    }\n",
              "\n",
              "    .dataframe thead th {\n",
              "        text-align: right;\n",
              "    }\n",
              "</style>\n",
              "<table border=\"1\" class=\"dataframe\">\n",
              "  <thead>\n",
              "    <tr style=\"text-align: right;\">\n",
              "      <th></th>\n",
              "      <th>reviewText</th>\n",
              "      <th>overall</th>\n",
              "    </tr>\n",
              "    <tr>\n",
              "      <th>reviewerid</th>\n",
              "      <th></th>\n",
              "      <th></th>\n",
              "    </tr>\n",
              "  </thead>\n",
              "  <tbody>\n",
              "    <tr>\n",
              "      <th>ALC5GH8CAMAI7</th>\n",
              "      <td>great little gadget look splinter use light gr...</td>\n",
              "      <td>1</td>\n",
              "    </tr>\n",
              "    <tr>\n",
              "      <th>AHKSURW85PJUE</th>\n",
              "      <td>recommend travel magnifier occasional read rea...</td>\n",
              "      <td>1</td>\n",
              "    </tr>\n",
              "    <tr>\n",
              "      <th>A38RMU1Y5TDP9</th>\n",
              "      <td>like quality lens build light lens discernable...</td>\n",
              "      <td>1</td>\n",
              "    </tr>\n",
              "    <tr>\n",
              "      <th>A1XZUG7DFXXOS4</th>\n",
              "      <td>love great point light pocket magnifier work g...</td>\n",
              "      <td>1</td>\n",
              "    </tr>\n",
              "    <tr>\n",
              "      <th>A1MS3M7M7AM13X</th>\n",
              "      <td>nice pull magnifier want light come slide reco...</td>\n",
              "      <td>1</td>\n",
              "    </tr>\n",
              "  </tbody>\n",
              "</table>\n",
              "</div>"
            ],
            "text/plain": [
              "                                                       reviewText  overall\n",
              "reviewerid                                                                \n",
              "ALC5GH8CAMAI7   great little gadget look splinter use light gr...        1\n",
              "AHKSURW85PJUE   recommend travel magnifier occasional read rea...        1\n",
              "A38RMU1Y5TDP9   like quality lens build light lens discernable...        1\n",
              "A1XZUG7DFXXOS4  love great point light pocket magnifier work g...        1\n",
              "A1MS3M7M7AM13X  nice pull magnifier want light come slide reco...        1"
            ]
          },
          "metadata": {
            "tags": []
          },
          "execution_count": 11
        }
      ]
    },
    {
      "cell_type": "markdown",
      "metadata": {
        "id": "nBMBfEleV2hX",
        "colab_type": "text"
      },
      "source": [
        "###Split train-test set"
      ]
    },
    {
      "cell_type": "code",
      "metadata": {
        "id": "VVIqSlJYMmSH",
        "colab_type": "code",
        "outputId": "de67750e-7171-4e48-daa5-6282d3e96bc3",
        "colab": {
          "base_uri": "https://localhost:8080/",
          "height": 34
        }
      },
      "source": [
        "from sklearn.model_selection import train_test_split\n",
        "\n",
        "target='overall' #EXPECTED OUTPUT\n",
        "\n",
        "x_columns = [x for x in review.columns if x not in [target]]\n",
        "\n",
        "X = review[x_columns]\n",
        "y = review['overall']\n",
        "X_train, X_test, y_train, y_test = train_test_split(X, y, test_size =0.2, random_state=1)\n",
        "\n",
        "print('Training dim:', X_train.shape, 'Test dim:', X_test.shape)"
      ],
      "execution_count": 0,
      "outputs": [
        {
          "output_type": "stream",
          "text": [
            "Training dim: (277084, 1) Test dim: (69271, 1)\n"
          ],
          "name": "stdout"
        }
      ]
    },
    {
      "cell_type": "markdown",
      "metadata": {
        "id": "YGZzKQ7QWGvs",
        "colab_type": "text"
      },
      "source": [
        "###Implement TF-IDF"
      ]
    },
    {
      "cell_type": "code",
      "metadata": {
        "id": "fI0dPGNEOnj-",
        "colab_type": "code",
        "colab": {}
      },
      "source": [
        "from sklearn.feature_extraction.text import TfidfVectorizer\n",
        "from nltk.corpus import words\n",
        "\n",
        "tv = TfidfVectorizer(\n",
        "                    ngram_range = (1,3),\n",
        "                    sublinear_tf = True,\n",
        "                    max_features = 3000) # Convert a collection of raw documents to a matrix of TF-IDF features"
      ],
      "execution_count": 0,
      "outputs": []
    },
    {
      "cell_type": "code",
      "metadata": {
        "id": "JdCBEJm8OuMV",
        "colab_type": "code",
        "colab": {}
      },
      "source": [
        "train_tv = tv.fit_transform(X_train['reviewText'])\n",
        "test_tv = tv.transform(X_test['reviewText'])"
      ],
      "execution_count": 0,
      "outputs": []
    },
    {
      "cell_type": "code",
      "metadata": {
        "id": "RjaLqVD1PCxk",
        "colab_type": "code",
        "outputId": "d6a9efb7-1ed9-4e01-8996-b3cbfa6b2106",
        "colab": {
          "base_uri": "https://localhost:8080/",
          "height": 146
        }
      },
      "source": [
        "import numpy as np\n",
        "vocab = tv.get_feature_names()\n",
        "dist = np.sum(train_tv, axis=0)\n",
        "checking = pd.DataFrame(dist, columns = vocab)\n",
        "checking"
      ],
      "execution_count": 0,
      "outputs": [
        {
          "output_type": "execute_result",
          "data": {
            "text/html": [
              "<div>\n",
              "<style scoped>\n",
              "    .dataframe tbody tr th:only-of-type {\n",
              "        vertical-align: middle;\n",
              "    }\n",
              "\n",
              "    .dataframe tbody tr th {\n",
              "        vertical-align: top;\n",
              "    }\n",
              "\n",
              "    .dataframe thead th {\n",
              "        text-align: right;\n",
              "    }\n",
              "</style>\n",
              "<table border=\"1\" class=\"dataframe\">\n",
              "  <thead>\n",
              "    <tr style=\"text-align: right;\">\n",
              "      <th></th>\n",
              "      <th>ability</th>\n",
              "      <th>able</th>\n",
              "      <th>absolute</th>\n",
              "      <th>absolutely</th>\n",
              "      <th>absolutely love</th>\n",
              "      <th>absorb</th>\n",
              "      <th>absorbent</th>\n",
              "      <th>absorption</th>\n",
              "      <th>acceptable</th>\n",
              "      <th>access</th>\n",
              "      <th>accident</th>\n",
              "      <th>accidentally</th>\n",
              "      <th>accord</th>\n",
              "      <th>account</th>\n",
              "      <th>accuracy</th>\n",
              "      <th>accurate</th>\n",
              "      <th>acetaminophen</th>\n",
              "      <th>ache</th>\n",
              "      <th>ache pain</th>\n",
              "      <th>achieve</th>\n",
              "      <th>acid</th>\n",
              "      <th>acids</th>\n",
              "      <th>acne</th>\n",
              "      <th>act</th>\n",
              "      <th>action</th>\n",
              "      <th>activate</th>\n",
              "      <th>active</th>\n",
              "      <th>active ingredient</th>\n",
              "      <th>activities</th>\n",
              "      <th>activity</th>\n",
              "      <th>actual</th>\n",
              "      <th>actually</th>\n",
              "      <th>actually work</th>\n",
              "      <th>adapter</th>\n",
              "      <th>add</th>\n",
              "      <th>addition</th>\n",
              "      <th>additional</th>\n",
              "      <th>additionally</th>\n",
              "      <th>additives</th>\n",
              "      <th>address</th>\n",
              "      <th>...</th>\n",
              "      <th>work think</th>\n",
              "      <th>work time</th>\n",
              "      <th>work try</th>\n",
              "      <th>work wonder</th>\n",
              "      <th>work work</th>\n",
              "      <th>workout</th>\n",
              "      <th>workouts</th>\n",
              "      <th>world</th>\n",
              "      <th>worry</th>\n",
              "      <th>worse</th>\n",
              "      <th>worst</th>\n",
              "      <th>worth</th>\n",
              "      <th>worth money</th>\n",
              "      <th>worth price</th>\n",
              "      <th>wouldn</th>\n",
              "      <th>wrap</th>\n",
              "      <th>wrinkle</th>\n",
              "      <th>wrist</th>\n",
              "      <th>wrists</th>\n",
              "      <th>write</th>\n",
              "      <th>write review</th>\n",
              "      <th>wrong</th>\n",
              "      <th>xylitol</th>\n",
              "      <th>yard</th>\n",
              "      <th>yeah</th>\n",
              "      <th>year</th>\n",
              "      <th>years</th>\n",
              "      <th>years try</th>\n",
              "      <th>years work</th>\n",
              "      <th>yeast</th>\n",
              "      <th>yellow</th>\n",
              "      <th>yesterday</th>\n",
              "      <th>yogurt</th>\n",
              "      <th>young</th>\n",
              "      <th>younger</th>\n",
              "      <th>yummy</th>\n",
              "      <th>zero</th>\n",
              "      <th>zinc</th>\n",
              "      <th>zippo</th>\n",
              "      <th>zone</th>\n",
              "    </tr>\n",
              "  </thead>\n",
              "  <tbody>\n",
              "    <tr>\n",
              "      <th>0</th>\n",
              "      <td>296.616661</td>\n",
              "      <td>1430.221567</td>\n",
              "      <td>122.509372</td>\n",
              "      <td>736.843024</td>\n",
              "      <td>206.827801</td>\n",
              "      <td>573.824918</td>\n",
              "      <td>271.365733</td>\n",
              "      <td>206.866996</td>\n",
              "      <td>110.162797</td>\n",
              "      <td>128.861398</td>\n",
              "      <td>138.968493</td>\n",
              "      <td>142.732264</td>\n",
              "      <td>275.959646</td>\n",
              "      <td>97.25334</td>\n",
              "      <td>151.714962</td>\n",
              "      <td>783.109418</td>\n",
              "      <td>92.358614</td>\n",
              "      <td>435.918322</td>\n",
              "      <td>154.233531</td>\n",
              "      <td>149.135065</td>\n",
              "      <td>597.163031</td>\n",
              "      <td>184.243363</td>\n",
              "      <td>201.595561</td>\n",
              "      <td>175.598896</td>\n",
              "      <td>238.943019</td>\n",
              "      <td>90.358459</td>\n",
              "      <td>429.913612</td>\n",
              "      <td>128.725311</td>\n",
              "      <td>113.262164</td>\n",
              "      <td>174.157284</td>\n",
              "      <td>329.677132</td>\n",
              "      <td>1798.835558</td>\n",
              "      <td>272.480223</td>\n",
              "      <td>91.079132</td>\n",
              "      <td>1116.548661</td>\n",
              "      <td>525.645398</td>\n",
              "      <td>320.316547</td>\n",
              "      <td>98.452485</td>\n",
              "      <td>140.748597</td>\n",
              "      <td>118.133271</td>\n",
              "      <td>...</td>\n",
              "      <td>125.568123</td>\n",
              "      <td>215.801529</td>\n",
              "      <td>146.54665</td>\n",
              "      <td>211.995605</td>\n",
              "      <td>298.979651</td>\n",
              "      <td>774.447376</td>\n",
              "      <td>358.340697</td>\n",
              "      <td>310.559513</td>\n",
              "      <td>779.047883</td>\n",
              "      <td>504.84227</td>\n",
              "      <td>278.892166</td>\n",
              "      <td>1776.580414</td>\n",
              "      <td>303.323543</td>\n",
              "      <td>247.595997</td>\n",
              "      <td>842.721215</td>\n",
              "      <td>629.601232</td>\n",
              "      <td>141.424905</td>\n",
              "      <td>410.880145</td>\n",
              "      <td>113.799078</td>\n",
              "      <td>564.978718</td>\n",
              "      <td>193.970094</td>\n",
              "      <td>732.232341</td>\n",
              "      <td>98.090711</td>\n",
              "      <td>122.847453</td>\n",
              "      <td>180.054264</td>\n",
              "      <td>1613.005338</td>\n",
              "      <td>3123.027258</td>\n",
              "      <td>124.439768</td>\n",
              "      <td>169.398604</td>\n",
              "      <td>242.433305</td>\n",
              "      <td>245.629414</td>\n",
              "      <td>140.716998</td>\n",
              "      <td>191.273042</td>\n",
              "      <td>215.366913</td>\n",
              "      <td>142.134032</td>\n",
              "      <td>177.700967</td>\n",
              "      <td>232.230864</td>\n",
              "      <td>224.055294</td>\n",
              "      <td>147.306699</td>\n",
              "      <td>87.692079</td>\n",
              "    </tr>\n",
              "  </tbody>\n",
              "</table>\n",
              "<p>1 rows × 3000 columns</p>\n",
              "</div>"
            ],
            "text/plain": [
              "      ability         able    absolute  ...        zinc       zippo       zone\n",
              "0  296.616661  1430.221567  122.509372  ...  224.055294  147.306699  87.692079\n",
              "\n",
              "[1 rows x 3000 columns]"
            ]
          },
          "metadata": {
            "tags": []
          },
          "execution_count": 15
        }
      ]
    },
    {
      "cell_type": "code",
      "metadata": {
        "id": "SsGw5mZrQEty",
        "colab_type": "code",
        "outputId": "33db0d0c-ead0-4e84-bfdc-7d0f77b6aeb7",
        "colab": {
          "base_uri": "https://localhost:8080/",
          "height": 34
        }
      },
      "source": [
        "print('Training dim:',train_tv.shape, 'Test dim:', test_tv.shape)"
      ],
      "execution_count": 0,
      "outputs": [
        {
          "output_type": "stream",
          "text": [
            "Training dim: (277084, 3000) Test dim: (69271, 3000)\n"
          ],
          "name": "stdout"
        }
      ]
    },
    {
      "cell_type": "markdown",
      "metadata": {
        "id": "yAoG75MuQ4iz",
        "colab_type": "text"
      },
      "source": [
        "##Classificaion Model building & Model evaluation\n",
        " Build the model with default parameters, as well as with grid search\n",
        " \n",
        " Evaluate with confusion matrix, ROC-AUC, precision, recall, F-1"
      ]
    },
    {
      "cell_type": "code",
      "metadata": {
        "id": "Lz86xJpWQGGg",
        "colab_type": "code",
        "colab": {}
      },
      "source": [
        "import pandas as pd\n",
        "\n",
        "from sklearn.model_selection import train_test_split\n",
        "from sklearn import metrics\n",
        "from sklearn.linear_model import LogisticRegression\n",
        "from sklearn import svm\n",
        "from sklearn.ensemble import RandomForestClassifier\n",
        "from sklearn.model_selection import GridSearchCV\n",
        "import warnings\n",
        "warnings.filterwarnings(\"ignore\")\n",
        "\n",
        "from yellowbrick.classifier import ROCAUC\n",
        "import sklearn.model_selection\n",
        "\n",
        "from yellowbrick.classifier import ConfusionMatrix\n"
      ],
      "execution_count": 0,
      "outputs": []
    },
    {
      "cell_type": "markdown",
      "metadata": {
        "id": "LOQ0iMxZSvXS",
        "colab_type": "text"
      },
      "source": [
        "###Logistic Regression"
      ]
    },
    {
      "cell_type": "code",
      "metadata": {
        "id": "R_3_b6LxQVLW",
        "colab_type": "code",
        "outputId": "895a3ab1-8900-469f-e0ba-f81b16fcf6b1",
        "colab": {
          "base_uri": "https://localhost:8080/",
          "height": 390
        }
      },
      "source": [
        "model = LogisticRegression()\n",
        "\n",
        "cm = ConfusionMatrix(model, classes=[0,1])\n",
        "cm.fit(train_tv, y_train)\n",
        "y_predlg = model.predict(test_tv)\n",
        "\n",
        "cm.score(test_tv, y_test)\n",
        "cm.poof()\n",
        "model.score(test_tv, y_test)"
      ],
      "execution_count": 0,
      "outputs": [
        {
          "output_type": "display_data",
          "data": {
            "image/png": "[encoded data removed]",
            "text/plain": [
              "<Figure size 576x396 with 1 Axes>"
            ]
          },
          "metadata": {
            "tags": []
          }
        },
        {
          "output_type": "execute_result",
          "data": {
            "text/plain": [
              "0.8537194496975646"
            ]
          },
          "metadata": {
            "tags": []
          },
          "execution_count": 21
        }
      ]
    },
    {
      "cell_type": "markdown",
      "metadata": {
        "id": "widCmo2zSeKe",
        "colab_type": "text"
      },
      "source": [
        "####GridSearch"
      ]
    },
    {
      "cell_type": "code",
      "metadata": {
        "id": "Wcn072spO43I",
        "colab_type": "code",
        "outputId": "8bc8d49f-4d21-4c39-b19c-92db34498d62",
        "colab": {
          "base_uri": "https://localhost:8080/",
          "height": 34
        }
      },
      "source": [
        "param_grid = {'C': [0.001, 0.01, 0.1, 1, 10, 100, 1000] }\n",
        "gsearchLR = GridSearchCV(LogisticRegression(), param_grid)\n",
        "gsearchLR.fit(train_tv,y_train)\n",
        "gsearchLR.best_params_, gsearchLR.best_score_"
      ],
      "execution_count": 0,
      "outputs": [
        {
          "output_type": "execute_result",
          "data": {
            "text/plain": [
              "({'C': 1}, 0.8539107274328362)"
            ]
          },
          "metadata": {
            "tags": []
          },
          "execution_count": 22
        }
      ]
    },
    {
      "cell_type": "code",
      "metadata": {
        "id": "6E7XmEORA0tB",
        "colab_type": "code",
        "outputId": "820a2c03-6529-4f58-e3e2-682f55c60cbc",
        "colab": {
          "base_uri": "https://localhost:8080/",
          "height": 390
        }
      },
      "source": [
        "model_lg = LogisticRegression(C = 1)\n",
        "\n",
        "cm = ConfusionMatrix(model_lg, classes=[0,1])\n",
        "cm.fit(train_tv, y_train)\n",
        "y_predlg = model_lg.predict(test_tv)\n",
        "\n",
        "cm.score(test_tv, y_test)\n",
        "cm.poof()\n",
        "model_lg.score(test_tv, y_test)"
      ],
      "execution_count": 0,
      "outputs": [
        {
          "output_type": "display_data",
          "data": {
            "image/png": "[encoded data removed]",
            "text/plain": [
              "<Figure size 576x396 with 1 Axes>"
            ]
          },
          "metadata": {
            "tags": []
          }
        },
        {
          "output_type": "execute_result",
          "data": {
            "text/plain": [
              "0.8537194496975646"
            ]
          },
          "metadata": {
            "tags": []
          },
          "execution_count": 23
        }
      ]
    },
    {
      "cell_type": "code",
      "metadata": {
        "id": "QGSx8stGBBHR",
        "colab_type": "code",
        "outputId": "dec7effd-b73b-4896-832f-b655e7eb3b4d",
        "colab": {
          "base_uri": "https://localhost:8080/",
          "height": 255
        }
      },
      "source": [
        "print(\"Classification report for classifier %s:\\n%s\\n\"\n",
        "      % (model_lg, metrics.classification_report(y_test, y_predlg)))"
      ],
      "execution_count": 0,
      "outputs": [
        {
          "output_type": "stream",
          "text": [
            "Classification report for classifier LogisticRegression(C=1, class_weight=None, dual=False, fit_intercept=True,\n",
            "          intercept_scaling=1, max_iter=100, multi_class='warn',\n",
            "          n_jobs=None, penalty='l2', random_state=None, solver='warn',\n",
            "          tol=0.0001, verbose=0, warm_start=False):\n",
            "              precision    recall  f1-score   support\n",
            "\n",
            "           0       0.71      0.41      0.52     13362\n",
            "           1       0.87      0.96      0.91     55909\n",
            "\n",
            "   micro avg       0.85      0.85      0.85     69271\n",
            "   macro avg       0.79      0.69      0.72     69271\n",
            "weighted avg       0.84      0.85      0.84     69271\n",
            "\n",
            "\n"
          ],
          "name": "stdout"
        }
      ]
    },
    {
      "cell_type": "code",
      "metadata": {
        "id": "m_RIUv1TQM5J",
        "colab_type": "code",
        "outputId": "79969157-97e3-403d-9867-2c82c2d6d264",
        "colab": {
          "base_uri": "https://localhost:8080/",
          "height": 376
        }
      },
      "source": [
        "classes=[0,1]\n",
        "visualizer = ROCAUC(model_lg, classes=classes)\n",
        "\n",
        "visualizer.fit(train_tv, y_train)  \n",
        "visualizer.score(test_tv, y_test)  \n",
        "g = visualizer.poof()             "
      ],
      "execution_count": 0,
      "outputs": [
        {
          "output_type": "display_data",
          "data": {
            "image/png": "[encoded data removed]",
            "text/plain": [
              "<Figure size 576x396 with 1 Axes>"
            ]
          },
          "metadata": {
            "tags": []
          }
        }
      ]
    },
    {
      "cell_type": "markdown",
      "metadata": {
        "id": "WmxbcKza_8ct",
        "colab_type": "text"
      },
      "source": [
        "###SVM"
      ]
    },
    {
      "cell_type": "markdown",
      "metadata": {
        "id": "B-GJNTimSO0g",
        "colab_type": "text"
      },
      "source": [
        "####Initial Model"
      ]
    },
    {
      "cell_type": "code",
      "metadata": {
        "id": "p_9hSUg1ijxW",
        "colab_type": "code",
        "outputId": "0bcffc6e-bf8c-4caf-bab8-32dcbd1086fe",
        "colab": {
          "base_uri": "https://localhost:8080/",
          "height": 390
        }
      },
      "source": [
        "from sklearn.ensemble import BaggingClassifier\n",
        "from sklearn.multiclass import OneVsRestClassifier\n",
        "from sklearn.svm import SVC\n",
        "n_estimators = 10\n",
        "\n",
        "model2 = OneVsRestClassifier(BaggingClassifier(SVC(kernel='linear', probability=True),  max_samples= 0.01,n_estimators=n_estimators))\n",
        "cm = ConfusionMatrix(model2, classes=[0,1])\n",
        "cm.fit(train_tv, y_train)\n",
        "y_predsvm = model2.predict(test_tv)\n",
        "\n",
        "cm.score(test_tv, y_test)\n",
        "cm.poof()\n",
        "model2.score(test_tv, y_test)\n"
      ],
      "execution_count": 0,
      "outputs": [
        {
          "output_type": "display_data",
          "data": {
            "image/png": "[encoded data removed]",
            "text/plain": [
              "<Figure size 576x396 with 1 Axes>"
            ]
          },
          "metadata": {
            "tags": []
          }
        },
        {
          "output_type": "execute_result",
          "data": {
            "text/plain": [
              "0.8254103448773658"
            ]
          },
          "metadata": {
            "tags": []
          },
          "execution_count": 48
        }
      ]
    },
    {
      "cell_type": "markdown",
      "metadata": {
        "id": "Jq8pZBaCSRfB",
        "colab_type": "text"
      },
      "source": [
        "####GridSearch"
      ]
    },
    {
      "cell_type": "code",
      "metadata": {
        "id": "HkWd-ib5Q1o8",
        "colab_type": "code",
        "colab": {}
      },
      "source": [
        "estimatnum = [1,5, 10]\n",
        "param_grid = {'n_estimators': estimatnum}\n",
        "\n",
        "gsearchSVM = GridSearchCV(BaggingClassifier(SVC(kernel='linear', probability=True),  max_samples= 0.01),                              \n",
        "                        param_grid = param_test1,scoring='roc_auc',cv=2)\n",
        "\n",
        "\n",
        "gsearchSVM.fit(train_tv,y_train)\n",
        "gsearchSVM.best_params_, gsearchLR.best_score_"
      ],
      "execution_count": 0,
      "outputs": []
    },
    {
      "cell_type": "code",
      "metadata": {
        "id": "EGwGkc-UA0N0",
        "colab_type": "code",
        "outputId": "292a5c39-e635-4b86-b0d0-a2eafe46de05",
        "colab": {
          "base_uri": "https://localhost:8080/",
          "height": 390
        }
      },
      "source": [
        "model_svm =  OneVsRestClassifier(BaggingClassifier(SVC(kernel='linear', probability=True),  max_samples= 0.01,n_estimators=5))\n",
        "\n",
        "\n",
        "cm = ConfusionMatrix(model_svm, classes=[0,1])\n",
        "cm.fit(train_tv, y_train)\n",
        "y_predsvm = model_svm.predict(test_tv)\n",
        "\n",
        "\n",
        "cm.score(test_tv, y_test)\n",
        "cm.poof()\n",
        "model_svm.score(test_tv, y_test)"
      ],
      "execution_count": 0,
      "outputs": [
        {
          "output_type": "display_data",
          "data": {
            "image/png": "[encoded data removed]",
            "text/plain": [
              "<Figure size 576x396 with 1 Axes>"
            ]
          },
          "metadata": {
            "tags": []
          }
        },
        {
          "output_type": "execute_result",
          "data": {
            "text/plain": [
              "0.826608537483218"
            ]
          },
          "metadata": {
            "tags": []
          },
          "execution_count": 67
        }
      ]
    },
    {
      "cell_type": "code",
      "metadata": {
        "id": "o5b1Sqq9A8O3",
        "colab_type": "code",
        "outputId": "00c9b76c-ab8c-4f05-9b5a-cf45a910373b",
        "colab": {
          "base_uri": "https://localhost:8080/",
          "height": 343
        }
      },
      "source": [
        "print(\"Classification report for classifier %s:\\n%s\\n\"\n",
        "      % (model_svm, metrics.classification_report(y_test, y_predsvm)))"
      ],
      "execution_count": 0,
      "outputs": [
        {
          "output_type": "stream",
          "text": [
            "Classification report for classifier OneVsRestClassifier(estimator=BaggingClassifier(base_estimator=SVC(C=1.0, cache_size=200, class_weight=None, coef0=0.0,\n",
            "  decision_function_shape='ovr', degree=3, gamma='auto_deprecated',\n",
            "  kernel='linear', max_iter=-1, probability=True, random_state=None,\n",
            "  shrinking=True, tol=0.001, verbose=False),\n",
            "         bootstrap=True, bootstrap_features=False, max_features=1.0,\n",
            "         max_samples=0.01, n_estimators=5, n_jobs=None, oob_score=False,\n",
            "         random_state=None, verbose=0, warm_start=False),\n",
            "          n_jobs=None):\n",
            "              precision    recall  f1-score   support\n",
            "\n",
            "           0       0.85      0.12      0.21     13362\n",
            "           1       0.83      0.99      0.90     55909\n",
            "\n",
            "   micro avg       0.83      0.83      0.83     69271\n",
            "   macro avg       0.84      0.56      0.56     69271\n",
            "weighted avg       0.83      0.83      0.77     69271\n",
            "\n",
            "\n"
          ],
          "name": "stdout"
        }
      ]
    },
    {
      "cell_type": "code",
      "metadata": {
        "id": "wqow7nSnQcSJ",
        "colab_type": "code",
        "outputId": "36cc95d2-f4cb-4649-b318-15dfcc96e2b1",
        "colab": {
          "base_uri": "https://localhost:8080/",
          "height": 376
        }
      },
      "source": [
        "classes=[0,1]\n",
        "\n",
        "# Instantiate the visualizer with the SVC classification model\n",
        "visualizer = ROCAUC(model_svm, classes=classes)\n",
        "\n",
        "visualizer.fit(train_tv, y_train)  # Fit the training data to the visualizer\n",
        "visualizer.score(test_tv, y_test)  # Evaluate the model on the test data\n",
        "g = visualizer.poof()             # Draw/show/poof the data"
      ],
      "execution_count": 0,
      "outputs": [
        {
          "output_type": "display_data",
          "data": {
            "image/png": "[encoded data removed]",
            "text/plain": [
              "<Figure size 576x396 with 1 Axes>"
            ]
          },
          "metadata": {
            "tags": []
          }
        }
      ]
    },
    {
      "cell_type": "markdown",
      "metadata": {
        "id": "2LA2XvbR_9cj",
        "colab_type": "text"
      },
      "source": [
        "###Random Forest"
      ]
    },
    {
      "cell_type": "markdown",
      "metadata": {
        "id": "gUbVEDhwSs7y",
        "colab_type": "text"
      },
      "source": [
        "####Initial Model"
      ]
    },
    {
      "cell_type": "code",
      "metadata": {
        "id": "xvMe0cwMAs-L",
        "colab_type": "code",
        "outputId": "d05b7a1f-593a-4361-d49f-684ccd18130f",
        "colab": {
          "base_uri": "https://localhost:8080/",
          "height": 34
        }
      },
      "source": [
        "rf1 = OneVsRestClassifier(BaggingClassifier(RandomForestClassifier(n_estimators= 100, #max_depth=6, min_samples_split=2,\n",
        "                                  random_state=10),  max_samples= 0.01,n_estimators=10))\n",
        "\n",
        "modelrf = rf1.fit(train_tv,y_train)\n",
        "\n",
        "y_predrf = rf1.predict_proba(test_tv)[:,1]\n",
        "print(\"ROC_AUC Score (Train): %f\" % metrics.roc_auc_score(y_test, y_predrf))"
      ],
      "execution_count": 0,
      "outputs": [
        {
          "output_type": "stream",
          "text": [
            "ROC_AUC Score (Train): 0.801729\n"
          ],
          "name": "stdout"
        }
      ]
    },
    {
      "cell_type": "code",
      "metadata": {
        "id": "aO_MYAMfK930",
        "colab_type": "code",
        "outputId": "abc308ae-db2e-4ee5-b5d6-bec1d7c40fff",
        "colab": {
          "base_uri": "https://localhost:8080/",
          "height": 390
        }
      },
      "source": [
        "cm = ConfusionMatrix(rf1, classes=[0,1])\n",
        "cm.fit(train_tv,y_train)\n",
        "cm.score(test_tv, y_test)\n",
        "cm.poof()\n",
        "rf1.score(test_tv, y_test)"
      ],
      "execution_count": 0,
      "outputs": [
        {
          "output_type": "display_data",
          "data": {
            "image/png": "[encoded data removed]",
            "text/plain": [
              "<Figure size 576x396 with 1 Axes>"
            ]
          },
          "metadata": {
            "tags": []
          }
        },
        {
          "output_type": "execute_result",
          "data": {
            "text/plain": [
              "0.8145255590362489"
            ]
          },
          "metadata": {
            "tags": []
          },
          "execution_count": 77
        }
      ]
    },
    {
      "cell_type": "markdown",
      "metadata": {
        "id": "gUZkE36lPJNt",
        "colab_type": "text"
      },
      "source": [
        "####GridSearch"
      ]
    },
    {
      "cell_type": "code",
      "metadata": {
        "id": "MceZ4hI5ApIX",
        "colab_type": "code",
        "colab": {}
      },
      "source": [
        "param_test1 = {'n_estimators':list(range(90,110,10))}  \n",
        "gsearch1 = GridSearchCV(estimator = RandomForestClassifier(oob_score=True,  random_state=10),                              \n",
        "                       param_grid = param_test1, scoring='roc_auc',cv=2)\n",
        "\n",
        "gsearch1.fit(train_tv,y_train)\n",
        "gsearch1.best_params_, gsearch1.best_score_"
      ],
      "execution_count": 0,
      "outputs": []
    },
    {
      "cell_type": "code",
      "metadata": {
        "id": "kt4TqmHt__1G",
        "colab_type": "code",
        "outputId": "c15d4e3e-790f-4f72-c157-4ca3d9bd1190",
        "colab": {
          "base_uri": "https://localhost:8080/",
          "height": 51
        }
      },
      "source": [
        "rf0 = RandomForestClassifier(n_estimators= 100, oob_score=True, random_state=10)\n",
        "rf0.fit(train_tv,y_train)\n",
        "print(rf0.oob_score_)\n",
        "y_predrf = rf0.predict_proba(test_tv)[:,1]\n",
        "print(\"ROC_AUC Score (Train): %f\" % metrics.roc_auc_score(y_test, y_predrf))"
      ],
      "execution_count": 0,
      "outputs": [
        {
          "output_type": "stream",
          "text": [
            "0.8357212975126677\n",
            "ROC_AUC Score (Train): 0.832941\n"
          ],
          "name": "stdout"
        }
      ]
    },
    {
      "cell_type": "code",
      "metadata": {
        "id": "e_PO6-jGTNWK",
        "colab_type": "code",
        "outputId": "34d093cc-d849-478a-b5ce-2c9c616018ab",
        "colab": {
          "base_uri": "https://localhost:8080/",
          "height": 390
        }
      },
      "source": [
        "cm = ConfusionMatrix(rf0, classes=[0,1])\n",
        "cm.fit(train_tv, y_train)\n",
        "cm.score(test_tv, y_test)\n",
        "cm.poof()\n",
        "rf0.score(test_tv, y_test)"
      ],
      "execution_count": 0,
      "outputs": [
        {
          "output_type": "display_data",
          "data": {
            "image/png": "[encoded data removed]",
            "text/plain": [
              "<Figure size 576x396 with 1 Axes>"
            ]
          },
          "metadata": {
            "tags": []
          }
        },
        {
          "output_type": "execute_result",
          "data": {
            "text/plain": [
              "0.8335378441194728"
            ]
          },
          "metadata": {
            "tags": []
          },
          "execution_count": 27
        }
      ]
    },
    {
      "cell_type": "code",
      "metadata": {
        "id": "O5WJMDwIK-RO",
        "colab_type": "code",
        "outputId": "62f6e208-678e-4673-86dd-8c0889aba457",
        "colab": {
          "base_uri": "https://localhost:8080/",
          "height": 289
        }
      },
      "source": [
        "y_predrf = rf0.predict(test_tv)\n",
        "print(\"Classification report for classifier %s:\\n%s\\n\"\n",
        "      % (rf0, metrics.classification_report(y_test, y_predrf)))"
      ],
      "execution_count": 0,
      "outputs": [
        {
          "output_type": "stream",
          "text": [
            "Classification report for classifier RandomForestClassifier(bootstrap=True, class_weight=None, criterion='gini',\n",
            "            max_depth=None, max_features='auto', max_leaf_nodes=None,\n",
            "            min_impurity_decrease=0.0, min_impurity_split=None,\n",
            "            min_samples_leaf=1, min_samples_split=2,\n",
            "            min_weight_fraction_leaf=0.0, n_estimators=100, n_jobs=None,\n",
            "            oob_score=True, random_state=10, verbose=0, warm_start=False):\n",
            "              precision    recall  f1-score   support\n",
            "\n",
            "           0       0.77      0.20      0.31     13362\n",
            "           1       0.84      0.99      0.91     55909\n",
            "\n",
            "   micro avg       0.83      0.83      0.83     69271\n",
            "   macro avg       0.80      0.59      0.61     69271\n",
            "weighted avg       0.82      0.83      0.79     69271\n",
            "\n",
            "\n"
          ],
          "name": "stdout"
        }
      ]
    },
    {
      "cell_type": "code",
      "metadata": {
        "id": "huH1BzZqBSfk",
        "colab_type": "code",
        "outputId": "a32b4fe1-d901-4284-e434-1559f077cb77",
        "colab": {
          "base_uri": "https://localhost:8080/",
          "height": 376
        }
      },
      "source": [
        "#rf0 = RandomForestClassifier(n_estimators= 100, oob_score=True, random_state=10)\n",
        "\n",
        "classes=[0,1]\n",
        "visualizer = ROCAUC(rf0, classes=classes)\n",
        "\n",
        "visualizer.fit(train_tv, y_train)  \n",
        "visualizer.score(test_tv, y_test)  \n",
        "g = visualizer.poof() "
      ],
      "execution_count": 0,
      "outputs": [
        {
          "output_type": "display_data",
          "data": {
            "image/png": "[encoded data removed]",
            "text/plain": [
              "<Figure size 576x396 with 1 Axes>"
            ]
          },
          "metadata": {
            "tags": []
          }
        }
      ]
    },
    {
      "cell_type": "markdown",
      "metadata": {
        "id": "_-uwHjBshNV1",
        "colab_type": "text"
      },
      "source": [
        "##LDA Model - Extract the hidden topics"
      ]
    },
    {
      "cell_type": "code",
      "metadata": {
        "id": "mQNoFO6bhN1W",
        "colab_type": "code",
        "outputId": "b15857f9-74d1-4213-b9f7-0d06b33c7946",
        "colab": {
          "base_uri": "https://localhost:8080/",
          "height": 136
        }
      },
      "source": [
        "# Build LDA Model\n",
        "from sklearn.decomposition import LatentDirichletAllocation, TruncatedSVD\n",
        "\n",
        "lda_model = LatentDirichletAllocation(n_topics=10,               # Number of topics\n",
        "                                      max_iter=10,               # Max learning iterations\n",
        "                                      learning_method='online',  # Online variational Bayes method. In each EM update, use mini-batch of training data to update the ``components_``variable incrementally. \n",
        "                                      random_state=100,          # Random state\n",
        "                                      batch_size=128,            # n docs in each learning iter\n",
        "                                      evaluate_every = -1,       # compute perplexity every n iters, default: Don't\n",
        "                                      n_jobs = -1,               # Use all available CPUs\n",
        "                                     )\n",
        "lda_output = lda_model.fit_transform(test_tv)\n",
        "\n",
        "print(lda_model)"
      ],
      "execution_count": 0,
      "outputs": [
        {
          "output_type": "stream",
          "text": [
            "LatentDirichletAllocation(batch_size=128, doc_topic_prior=None,\n",
            "             evaluate_every=-1, learning_decay=0.7,\n",
            "             learning_method='online', learning_offset=10.0,\n",
            "             max_doc_update_iter=100, max_iter=10, mean_change_tol=0.001,\n",
            "             n_components=10, n_jobs=-1, n_topics=10, perp_tol=0.1,\n",
            "             random_state=100, topic_word_prior=None,\n",
            "             total_samples=1000000.0, verbose=0)\n"
          ],
          "name": "stdout"
        }
      ]
    },
    {
      "cell_type": "markdown",
      "metadata": {
        "id": "dECw9R83j77H",
        "colab_type": "text"
      },
      "source": [
        "LDA Evaluation"
      ]
    },
    {
      "cell_type": "code",
      "metadata": {
        "id": "9j95RDyNjvWj",
        "colab_type": "code",
        "outputId": "7d174f3a-b9ff-4314-83d1-6b08d822b26b",
        "colab": {
          "base_uri": "https://localhost:8080/",
          "height": 51
        }
      },
      "source": [
        "# Log Likelyhood: Higher the better\n",
        "print(\"Log Likelihood: \", lda_model.score(test_tv)) # Calculate approximate log-likelihood as score\n",
        "\n",
        "# Perplexity: Lower the better. Perplexity = exp(-1. * log-likelihood per word)\n",
        "print(\"Perplexity: \", lda_model.perplexity(test_tv)) # Perplexity is the measure of how well a model predicts a sample"
      ],
      "execution_count": 0,
      "outputs": [
        {
          "output_type": "stream",
          "text": [
            "Log Likelihood:  -2601325.921293391\n",
            "Perplexity:  4178.411076274591\n"
          ],
          "name": "stdout"
        }
      ]
    },
    {
      "cell_type": "code",
      "metadata": {
        "colab_type": "code",
        "id": "DMYaeeYYntoN",
        "outputId": "308340ea-1a4d-43a0-9c71-d366ff2c50ac",
        "colab": {
          "base_uri": "https://localhost:8080/",
          "height": 250
        }
      },
      "source": [
        "# Create Document - Topic Matrix\n",
        "lda_output = lda_model.transform(test_tv)\n",
        "\n",
        "# column names\n",
        "topicnames = [\"Topic\" + str(i) for i in range(lda_model.n_topics)]\n",
        "\n",
        "# index names\n",
        "docnames = [\"review\" + str(i) for i in range(test_tv.shape[0])]\n",
        "\n",
        "# Make the pandas dataframe\n",
        "df_document_topic = pd.DataFrame(np.round(lda_output, 2), columns=topicnames, index=docnames)\n",
        "\n",
        "# Get dominant topic for each review\n",
        "dominant_topic = np.argmax(df_document_topic.values, axis=1)\n",
        "df_document_topic['dominant_topic'] = dominant_topic\n",
        "\n",
        "# Styling\n",
        "def color_green(val):\n",
        "    color = 'green' if val > .1 else 'black'\n",
        "    return 'color: {col}'.format(col=color)\n",
        "\n",
        "def make_bold(val):\n",
        "    weight = 700 if val > .1 else 400\n",
        "    return 'font-weight: {weight}'.format(weight=weight)\n",
        "\n",
        "# Apply Style\n",
        "df_document_topics = df_document_topic.head(10).style.applymap(color_green).applymap(make_bold)\n",
        "df_document_topics"
      ],
      "execution_count": 0,
      "outputs": [
        {
          "output_type": "execute_result",
          "data": {
            "text/html": [
              "<style  type=\"text/css\" >\n",
              "    #T_c604cccc_7748_11e9_bb8a_0242ac1c0002row0_col0 {\n",
              "            color:  black;\n",
              "            font-weight:  400;\n",
              "        }    #T_c604cccc_7748_11e9_bb8a_0242ac1c0002row0_col1 {\n",
              "            color:  black;\n",
              "            font-weight:  400;\n",
              "        }    #T_c604cccc_7748_11e9_bb8a_0242ac1c0002row0_col2 {\n",
              "            color:  black;\n",
              "            font-weight:  400;\n",
              "        }    #T_c604cccc_7748_11e9_bb8a_0242ac1c0002row0_col3 {\n",
              "            color:  black;\n",
              "            font-weight:  400;\n",
              "        }    #T_c604cccc_7748_11e9_bb8a_0242ac1c0002row0_col4 {\n",
              "            color:  black;\n",
              "            font-weight:  400;\n",
              "        }    #T_c604cccc_7748_11e9_bb8a_0242ac1c0002row0_col5 {\n",
              "            color:  green;\n",
              "            font-weight:  700;\n",
              "        }    #T_c604cccc_7748_11e9_bb8a_0242ac1c0002row0_col6 {\n",
              "            color:  black;\n",
              "            font-weight:  400;\n",
              "        }    #T_c604cccc_7748_11e9_bb8a_0242ac1c0002row0_col7 {\n",
              "            color:  black;\n",
              "            font-weight:  400;\n",
              "        }    #T_c604cccc_7748_11e9_bb8a_0242ac1c0002row0_col8 {\n",
              "            color:  black;\n",
              "            font-weight:  400;\n",
              "        }    #T_c604cccc_7748_11e9_bb8a_0242ac1c0002row0_col9 {\n",
              "            color:  black;\n",
              "            font-weight:  400;\n",
              "        }    #T_c604cccc_7748_11e9_bb8a_0242ac1c0002row0_col10 {\n",
              "            color:  green;\n",
              "            font-weight:  700;\n",
              "        }    #T_c604cccc_7748_11e9_bb8a_0242ac1c0002row1_col0 {\n",
              "            color:  black;\n",
              "            font-weight:  400;\n",
              "        }    #T_c604cccc_7748_11e9_bb8a_0242ac1c0002row1_col1 {\n",
              "            color:  black;\n",
              "            font-weight:  400;\n",
              "        }    #T_c604cccc_7748_11e9_bb8a_0242ac1c0002row1_col2 {\n",
              "            color:  black;\n",
              "            font-weight:  400;\n",
              "        }    #T_c604cccc_7748_11e9_bb8a_0242ac1c0002row1_col3 {\n",
              "            color:  black;\n",
              "            font-weight:  400;\n",
              "        }    #T_c604cccc_7748_11e9_bb8a_0242ac1c0002row1_col4 {\n",
              "            color:  black;\n",
              "            font-weight:  400;\n",
              "        }    #T_c604cccc_7748_11e9_bb8a_0242ac1c0002row1_col5 {\n",
              "            color:  black;\n",
              "            font-weight:  400;\n",
              "        }    #T_c604cccc_7748_11e9_bb8a_0242ac1c0002row1_col6 {\n",
              "            color:  black;\n",
              "            font-weight:  400;\n",
              "        }    #T_c604cccc_7748_11e9_bb8a_0242ac1c0002row1_col7 {\n",
              "            color:  black;\n",
              "            font-weight:  400;\n",
              "        }    #T_c604cccc_7748_11e9_bb8a_0242ac1c0002row1_col8 {\n",
              "            color:  black;\n",
              "            font-weight:  400;\n",
              "        }    #T_c604cccc_7748_11e9_bb8a_0242ac1c0002row1_col9 {\n",
              "            color:  green;\n",
              "            font-weight:  700;\n",
              "        }    #T_c604cccc_7748_11e9_bb8a_0242ac1c0002row1_col10 {\n",
              "            color:  green;\n",
              "            font-weight:  700;\n",
              "        }    #T_c604cccc_7748_11e9_bb8a_0242ac1c0002row2_col0 {\n",
              "            color:  black;\n",
              "            font-weight:  400;\n",
              "        }    #T_c604cccc_7748_11e9_bb8a_0242ac1c0002row2_col1 {\n",
              "            color:  black;\n",
              "            font-weight:  400;\n",
              "        }    #T_c604cccc_7748_11e9_bb8a_0242ac1c0002row2_col2 {\n",
              "            color:  black;\n",
              "            font-weight:  400;\n",
              "        }    #T_c604cccc_7748_11e9_bb8a_0242ac1c0002row2_col3 {\n",
              "            color:  black;\n",
              "            font-weight:  400;\n",
              "        }    #T_c604cccc_7748_11e9_bb8a_0242ac1c0002row2_col4 {\n",
              "            color:  black;\n",
              "            font-weight:  400;\n",
              "        }    #T_c604cccc_7748_11e9_bb8a_0242ac1c0002row2_col5 {\n",
              "            color:  black;\n",
              "            font-weight:  400;\n",
              "        }    #T_c604cccc_7748_11e9_bb8a_0242ac1c0002row2_col6 {\n",
              "            color:  black;\n",
              "            font-weight:  400;\n",
              "        }    #T_c604cccc_7748_11e9_bb8a_0242ac1c0002row2_col7 {\n",
              "            color:  green;\n",
              "            font-weight:  700;\n",
              "        }    #T_c604cccc_7748_11e9_bb8a_0242ac1c0002row2_col8 {\n",
              "            color:  green;\n",
              "            font-weight:  700;\n",
              "        }    #T_c604cccc_7748_11e9_bb8a_0242ac1c0002row2_col9 {\n",
              "            color:  green;\n",
              "            font-weight:  700;\n",
              "        }    #T_c604cccc_7748_11e9_bb8a_0242ac1c0002row2_col10 {\n",
              "            color:  green;\n",
              "            font-weight:  700;\n",
              "        }    #T_c604cccc_7748_11e9_bb8a_0242ac1c0002row3_col0 {\n",
              "            color:  black;\n",
              "            font-weight:  400;\n",
              "        }    #T_c604cccc_7748_11e9_bb8a_0242ac1c0002row3_col1 {\n",
              "            color:  black;\n",
              "            font-weight:  400;\n",
              "        }    #T_c604cccc_7748_11e9_bb8a_0242ac1c0002row3_col2 {\n",
              "            color:  black;\n",
              "            font-weight:  400;\n",
              "        }    #T_c604cccc_7748_11e9_bb8a_0242ac1c0002row3_col3 {\n",
              "            color:  black;\n",
              "            font-weight:  400;\n",
              "        }    #T_c604cccc_7748_11e9_bb8a_0242ac1c0002row3_col4 {\n",
              "            color:  black;\n",
              "            font-weight:  400;\n",
              "        }    #T_c604cccc_7748_11e9_bb8a_0242ac1c0002row3_col5 {\n",
              "            color:  black;\n",
              "            font-weight:  400;\n",
              "        }    #T_c604cccc_7748_11e9_bb8a_0242ac1c0002row3_col6 {\n",
              "            color:  black;\n",
              "            font-weight:  400;\n",
              "        }    #T_c604cccc_7748_11e9_bb8a_0242ac1c0002row3_col7 {\n",
              "            color:  green;\n",
              "            font-weight:  700;\n",
              "        }    #T_c604cccc_7748_11e9_bb8a_0242ac1c0002row3_col8 {\n",
              "            color:  black;\n",
              "            font-weight:  400;\n",
              "        }    #T_c604cccc_7748_11e9_bb8a_0242ac1c0002row3_col9 {\n",
              "            color:  green;\n",
              "            font-weight:  700;\n",
              "        }    #T_c604cccc_7748_11e9_bb8a_0242ac1c0002row3_col10 {\n",
              "            color:  green;\n",
              "            font-weight:  700;\n",
              "        }    #T_c604cccc_7748_11e9_bb8a_0242ac1c0002row4_col0 {\n",
              "            color:  green;\n",
              "            font-weight:  700;\n",
              "        }    #T_c604cccc_7748_11e9_bb8a_0242ac1c0002row4_col1 {\n",
              "            color:  green;\n",
              "            font-weight:  700;\n",
              "        }    #T_c604cccc_7748_11e9_bb8a_0242ac1c0002row4_col2 {\n",
              "            color:  black;\n",
              "            font-weight:  400;\n",
              "        }    #T_c604cccc_7748_11e9_bb8a_0242ac1c0002row4_col3 {\n",
              "            color:  black;\n",
              "            font-weight:  400;\n",
              "        }    #T_c604cccc_7748_11e9_bb8a_0242ac1c0002row4_col4 {\n",
              "            color:  black;\n",
              "            font-weight:  400;\n",
              "        }    #T_c604cccc_7748_11e9_bb8a_0242ac1c0002row4_col5 {\n",
              "            color:  black;\n",
              "            font-weight:  400;\n",
              "        }    #T_c604cccc_7748_11e9_bb8a_0242ac1c0002row4_col6 {\n",
              "            color:  black;\n",
              "            font-weight:  400;\n",
              "        }    #T_c604cccc_7748_11e9_bb8a_0242ac1c0002row4_col7 {\n",
              "            color:  black;\n",
              "            font-weight:  400;\n",
              "        }    #T_c604cccc_7748_11e9_bb8a_0242ac1c0002row4_col8 {\n",
              "            color:  black;\n",
              "            font-weight:  400;\n",
              "        }    #T_c604cccc_7748_11e9_bb8a_0242ac1c0002row4_col9 {\n",
              "            color:  black;\n",
              "            font-weight:  400;\n",
              "        }    #T_c604cccc_7748_11e9_bb8a_0242ac1c0002row4_col10 {\n",
              "            color:  black;\n",
              "            font-weight:  400;\n",
              "        }    #T_c604cccc_7748_11e9_bb8a_0242ac1c0002row5_col0 {\n",
              "            color:  green;\n",
              "            font-weight:  700;\n",
              "        }    #T_c604cccc_7748_11e9_bb8a_0242ac1c0002row5_col1 {\n",
              "            color:  black;\n",
              "            font-weight:  400;\n",
              "        }    #T_c604cccc_7748_11e9_bb8a_0242ac1c0002row5_col2 {\n",
              "            color:  black;\n",
              "            font-weight:  400;\n",
              "        }    #T_c604cccc_7748_11e9_bb8a_0242ac1c0002row5_col3 {\n",
              "            color:  black;\n",
              "            font-weight:  400;\n",
              "        }    #T_c604cccc_7748_11e9_bb8a_0242ac1c0002row5_col4 {\n",
              "            color:  black;\n",
              "            font-weight:  400;\n",
              "        }    #T_c604cccc_7748_11e9_bb8a_0242ac1c0002row5_col5 {\n",
              "            color:  black;\n",
              "            font-weight:  400;\n",
              "        }    #T_c604cccc_7748_11e9_bb8a_0242ac1c0002row5_col6 {\n",
              "            color:  black;\n",
              "            font-weight:  400;\n",
              "        }    #T_c604cccc_7748_11e9_bb8a_0242ac1c0002row5_col7 {\n",
              "            color:  black;\n",
              "            font-weight:  400;\n",
              "        }    #T_c604cccc_7748_11e9_bb8a_0242ac1c0002row5_col8 {\n",
              "            color:  black;\n",
              "            font-weight:  400;\n",
              "        }    #T_c604cccc_7748_11e9_bb8a_0242ac1c0002row5_col9 {\n",
              "            color:  green;\n",
              "            font-weight:  700;\n",
              "        }    #T_c604cccc_7748_11e9_bb8a_0242ac1c0002row5_col10 {\n",
              "            color:  green;\n",
              "            font-weight:  700;\n",
              "        }    #T_c604cccc_7748_11e9_bb8a_0242ac1c0002row6_col0 {\n",
              "            color:  black;\n",
              "            font-weight:  400;\n",
              "        }    #T_c604cccc_7748_11e9_bb8a_0242ac1c0002row6_col1 {\n",
              "            color:  black;\n",
              "            font-weight:  400;\n",
              "        }    #T_c604cccc_7748_11e9_bb8a_0242ac1c0002row6_col2 {\n",
              "            color:  black;\n",
              "            font-weight:  400;\n",
              "        }    #T_c604cccc_7748_11e9_bb8a_0242ac1c0002row6_col3 {\n",
              "            color:  black;\n",
              "            font-weight:  400;\n",
              "        }    #T_c604cccc_7748_11e9_bb8a_0242ac1c0002row6_col4 {\n",
              "            color:  black;\n",
              "            font-weight:  400;\n",
              "        }    #T_c604cccc_7748_11e9_bb8a_0242ac1c0002row6_col5 {\n",
              "            color:  green;\n",
              "            font-weight:  700;\n",
              "        }    #T_c604cccc_7748_11e9_bb8a_0242ac1c0002row6_col6 {\n",
              "            color:  black;\n",
              "            font-weight:  400;\n",
              "        }    #T_c604cccc_7748_11e9_bb8a_0242ac1c0002row6_col7 {\n",
              "            color:  black;\n",
              "            font-weight:  400;\n",
              "        }    #T_c604cccc_7748_11e9_bb8a_0242ac1c0002row6_col8 {\n",
              "            color:  black;\n",
              "            font-weight:  400;\n",
              "        }    #T_c604cccc_7748_11e9_bb8a_0242ac1c0002row6_col9 {\n",
              "            color:  black;\n",
              "            font-weight:  400;\n",
              "        }    #T_c604cccc_7748_11e9_bb8a_0242ac1c0002row6_col10 {\n",
              "            color:  green;\n",
              "            font-weight:  700;\n",
              "        }    #T_c604cccc_7748_11e9_bb8a_0242ac1c0002row7_col0 {\n",
              "            color:  black;\n",
              "            font-weight:  400;\n",
              "        }    #T_c604cccc_7748_11e9_bb8a_0242ac1c0002row7_col1 {\n",
              "            color:  black;\n",
              "            font-weight:  400;\n",
              "        }    #T_c604cccc_7748_11e9_bb8a_0242ac1c0002row7_col2 {\n",
              "            color:  black;\n",
              "            font-weight:  400;\n",
              "        }    #T_c604cccc_7748_11e9_bb8a_0242ac1c0002row7_col3 {\n",
              "            color:  black;\n",
              "            font-weight:  400;\n",
              "        }    #T_c604cccc_7748_11e9_bb8a_0242ac1c0002row7_col4 {\n",
              "            color:  black;\n",
              "            font-weight:  400;\n",
              "        }    #T_c604cccc_7748_11e9_bb8a_0242ac1c0002row7_col5 {\n",
              "            color:  green;\n",
              "            font-weight:  700;\n",
              "        }    #T_c604cccc_7748_11e9_bb8a_0242ac1c0002row7_col6 {\n",
              "            color:  black;\n",
              "            font-weight:  400;\n",
              "        }    #T_c604cccc_7748_11e9_bb8a_0242ac1c0002row7_col7 {\n",
              "            color:  black;\n",
              "            font-weight:  400;\n",
              "        }    #T_c604cccc_7748_11e9_bb8a_0242ac1c0002row7_col8 {\n",
              "            color:  black;\n",
              "            font-weight:  400;\n",
              "        }    #T_c604cccc_7748_11e9_bb8a_0242ac1c0002row7_col9 {\n",
              "            color:  green;\n",
              "            font-weight:  700;\n",
              "        }    #T_c604cccc_7748_11e9_bb8a_0242ac1c0002row7_col10 {\n",
              "            color:  green;\n",
              "            font-weight:  700;\n",
              "        }    #T_c604cccc_7748_11e9_bb8a_0242ac1c0002row8_col0 {\n",
              "            color:  black;\n",
              "            font-weight:  400;\n",
              "        }    #T_c604cccc_7748_11e9_bb8a_0242ac1c0002row8_col1 {\n",
              "            color:  black;\n",
              "            font-weight:  400;\n",
              "        }    #T_c604cccc_7748_11e9_bb8a_0242ac1c0002row8_col2 {\n",
              "            color:  black;\n",
              "            font-weight:  400;\n",
              "        }    #T_c604cccc_7748_11e9_bb8a_0242ac1c0002row8_col3 {\n",
              "            color:  green;\n",
              "            font-weight:  700;\n",
              "        }    #T_c604cccc_7748_11e9_bb8a_0242ac1c0002row8_col4 {\n",
              "            color:  black;\n",
              "            font-weight:  400;\n",
              "        }    #T_c604cccc_7748_11e9_bb8a_0242ac1c0002row8_col5 {\n",
              "            color:  black;\n",
              "            font-weight:  400;\n",
              "        }    #T_c604cccc_7748_11e9_bb8a_0242ac1c0002row8_col6 {\n",
              "            color:  black;\n",
              "            font-weight:  400;\n",
              "        }    #T_c604cccc_7748_11e9_bb8a_0242ac1c0002row8_col7 {\n",
              "            color:  black;\n",
              "            font-weight:  400;\n",
              "        }    #T_c604cccc_7748_11e9_bb8a_0242ac1c0002row8_col8 {\n",
              "            color:  black;\n",
              "            font-weight:  400;\n",
              "        }    #T_c604cccc_7748_11e9_bb8a_0242ac1c0002row8_col9 {\n",
              "            color:  black;\n",
              "            font-weight:  400;\n",
              "        }    #T_c604cccc_7748_11e9_bb8a_0242ac1c0002row8_col10 {\n",
              "            color:  green;\n",
              "            font-weight:  700;\n",
              "        }    #T_c604cccc_7748_11e9_bb8a_0242ac1c0002row9_col0 {\n",
              "            color:  black;\n",
              "            font-weight:  400;\n",
              "        }    #T_c604cccc_7748_11e9_bb8a_0242ac1c0002row9_col1 {\n",
              "            color:  green;\n",
              "            font-weight:  700;\n",
              "        }    #T_c604cccc_7748_11e9_bb8a_0242ac1c0002row9_col2 {\n",
              "            color:  black;\n",
              "            font-weight:  400;\n",
              "        }    #T_c604cccc_7748_11e9_bb8a_0242ac1c0002row9_col3 {\n",
              "            color:  black;\n",
              "            font-weight:  400;\n",
              "        }    #T_c604cccc_7748_11e9_bb8a_0242ac1c0002row9_col4 {\n",
              "            color:  black;\n",
              "            font-weight:  400;\n",
              "        }    #T_c604cccc_7748_11e9_bb8a_0242ac1c0002row9_col5 {\n",
              "            color:  green;\n",
              "            font-weight:  700;\n",
              "        }    #T_c604cccc_7748_11e9_bb8a_0242ac1c0002row9_col6 {\n",
              "            color:  black;\n",
              "            font-weight:  400;\n",
              "        }    #T_c604cccc_7748_11e9_bb8a_0242ac1c0002row9_col7 {\n",
              "            color:  black;\n",
              "            font-weight:  400;\n",
              "        }    #T_c604cccc_7748_11e9_bb8a_0242ac1c0002row9_col8 {\n",
              "            color:  black;\n",
              "            font-weight:  400;\n",
              "        }    #T_c604cccc_7748_11e9_bb8a_0242ac1c0002row9_col9 {\n",
              "            color:  black;\n",
              "            font-weight:  400;\n",
              "        }    #T_c604cccc_7748_11e9_bb8a_0242ac1c0002row9_col10 {\n",
              "            color:  green;\n",
              "            font-weight:  700;\n",
              "        }</style><table id=\"T_c604cccc_7748_11e9_bb8a_0242ac1c0002\" ><thead>    <tr>        <th class=\"blank level0\" ></th>        <th class=\"col_heading level0 col0\" >Topic0</th>        <th class=\"col_heading level0 col1\" >Topic1</th>        <th class=\"col_heading level0 col2\" >Topic2</th>        <th class=\"col_heading level0 col3\" >Topic3</th>        <th class=\"col_heading level0 col4\" >Topic4</th>        <th class=\"col_heading level0 col5\" >Topic5</th>        <th class=\"col_heading level0 col6\" >Topic6</th>        <th class=\"col_heading level0 col7\" >Topic7</th>        <th class=\"col_heading level0 col8\" >Topic8</th>        <th class=\"col_heading level0 col9\" >Topic9</th>        <th class=\"col_heading level0 col10\" >dominant_topic</th>    </tr></thead><tbody>\n",
              "                <tr>\n",
              "                        <th id=\"T_c604cccc_7748_11e9_bb8a_0242ac1c0002level0_row0\" class=\"row_heading level0 row0\" >review0</th>\n",
              "                        <td id=\"T_c604cccc_7748_11e9_bb8a_0242ac1c0002row0_col0\" class=\"data row0 col0\" >0.1</td>\n",
              "                        <td id=\"T_c604cccc_7748_11e9_bb8a_0242ac1c0002row0_col1\" class=\"data row0 col1\" >0.02</td>\n",
              "                        <td id=\"T_c604cccc_7748_11e9_bb8a_0242ac1c0002row0_col2\" class=\"data row0 col2\" >0.02</td>\n",
              "                        <td id=\"T_c604cccc_7748_11e9_bb8a_0242ac1c0002row0_col3\" class=\"data row0 col3\" >0.02</td>\n",
              "                        <td id=\"T_c604cccc_7748_11e9_bb8a_0242ac1c0002row0_col4\" class=\"data row0 col4\" >0.02</td>\n",
              "                        <td id=\"T_c604cccc_7748_11e9_bb8a_0242ac1c0002row0_col5\" class=\"data row0 col5\" >0.71</td>\n",
              "                        <td id=\"T_c604cccc_7748_11e9_bb8a_0242ac1c0002row0_col6\" class=\"data row0 col6\" >0.02</td>\n",
              "                        <td id=\"T_c604cccc_7748_11e9_bb8a_0242ac1c0002row0_col7\" class=\"data row0 col7\" >0.02</td>\n",
              "                        <td id=\"T_c604cccc_7748_11e9_bb8a_0242ac1c0002row0_col8\" class=\"data row0 col8\" >0.02</td>\n",
              "                        <td id=\"T_c604cccc_7748_11e9_bb8a_0242ac1c0002row0_col9\" class=\"data row0 col9\" >0.02</td>\n",
              "                        <td id=\"T_c604cccc_7748_11e9_bb8a_0242ac1c0002row0_col10\" class=\"data row0 col10\" >5</td>\n",
              "            </tr>\n",
              "            <tr>\n",
              "                        <th id=\"T_c604cccc_7748_11e9_bb8a_0242ac1c0002level0_row1\" class=\"row_heading level0 row1\" >review1</th>\n",
              "                        <td id=\"T_c604cccc_7748_11e9_bb8a_0242ac1c0002row1_col0\" class=\"data row1 col0\" >0.02</td>\n",
              "                        <td id=\"T_c604cccc_7748_11e9_bb8a_0242ac1c0002row1_col1\" class=\"data row1 col1\" >0.02</td>\n",
              "                        <td id=\"T_c604cccc_7748_11e9_bb8a_0242ac1c0002row1_col2\" class=\"data row1 col2\" >0.02</td>\n",
              "                        <td id=\"T_c604cccc_7748_11e9_bb8a_0242ac1c0002row1_col3\" class=\"data row1 col3\" >0.02</td>\n",
              "                        <td id=\"T_c604cccc_7748_11e9_bb8a_0242ac1c0002row1_col4\" class=\"data row1 col4\" >0.02</td>\n",
              "                        <td id=\"T_c604cccc_7748_11e9_bb8a_0242ac1c0002row1_col5\" class=\"data row1 col5\" >0.02</td>\n",
              "                        <td id=\"T_c604cccc_7748_11e9_bb8a_0242ac1c0002row1_col6\" class=\"data row1 col6\" >0.02</td>\n",
              "                        <td id=\"T_c604cccc_7748_11e9_bb8a_0242ac1c0002row1_col7\" class=\"data row1 col7\" >0.02</td>\n",
              "                        <td id=\"T_c604cccc_7748_11e9_bb8a_0242ac1c0002row1_col8\" class=\"data row1 col8\" >0.02</td>\n",
              "                        <td id=\"T_c604cccc_7748_11e9_bb8a_0242ac1c0002row1_col9\" class=\"data row1 col9\" >0.78</td>\n",
              "                        <td id=\"T_c604cccc_7748_11e9_bb8a_0242ac1c0002row1_col10\" class=\"data row1 col10\" >9</td>\n",
              "            </tr>\n",
              "            <tr>\n",
              "                        <th id=\"T_c604cccc_7748_11e9_bb8a_0242ac1c0002level0_row2\" class=\"row_heading level0 row2\" >review2</th>\n",
              "                        <td id=\"T_c604cccc_7748_11e9_bb8a_0242ac1c0002row2_col0\" class=\"data row2 col0\" >0.02</td>\n",
              "                        <td id=\"T_c604cccc_7748_11e9_bb8a_0242ac1c0002row2_col1\" class=\"data row2 col1\" >0.02</td>\n",
              "                        <td id=\"T_c604cccc_7748_11e9_bb8a_0242ac1c0002row2_col2\" class=\"data row2 col2\" >0.02</td>\n",
              "                        <td id=\"T_c604cccc_7748_11e9_bb8a_0242ac1c0002row2_col3\" class=\"data row2 col3\" >0.02</td>\n",
              "                        <td id=\"T_c604cccc_7748_11e9_bb8a_0242ac1c0002row2_col4\" class=\"data row2 col4\" >0.02</td>\n",
              "                        <td id=\"T_c604cccc_7748_11e9_bb8a_0242ac1c0002row2_col5\" class=\"data row2 col5\" >0.02</td>\n",
              "                        <td id=\"T_c604cccc_7748_11e9_bb8a_0242ac1c0002row2_col6\" class=\"data row2 col6\" >0.02</td>\n",
              "                        <td id=\"T_c604cccc_7748_11e9_bb8a_0242ac1c0002row2_col7\" class=\"data row2 col7\" >0.5</td>\n",
              "                        <td id=\"T_c604cccc_7748_11e9_bb8a_0242ac1c0002row2_col8\" class=\"data row2 col8\" >0.18</td>\n",
              "                        <td id=\"T_c604cccc_7748_11e9_bb8a_0242ac1c0002row2_col9\" class=\"data row2 col9\" >0.16</td>\n",
              "                        <td id=\"T_c604cccc_7748_11e9_bb8a_0242ac1c0002row2_col10\" class=\"data row2 col10\" >7</td>\n",
              "            </tr>\n",
              "            <tr>\n",
              "                        <th id=\"T_c604cccc_7748_11e9_bb8a_0242ac1c0002level0_row3\" class=\"row_heading level0 row3\" >review3</th>\n",
              "                        <td id=\"T_c604cccc_7748_11e9_bb8a_0242ac1c0002row3_col0\" class=\"data row3 col0\" >0.02</td>\n",
              "                        <td id=\"T_c604cccc_7748_11e9_bb8a_0242ac1c0002row3_col1\" class=\"data row3 col1\" >0.02</td>\n",
              "                        <td id=\"T_c604cccc_7748_11e9_bb8a_0242ac1c0002row3_col2\" class=\"data row3 col2\" >0.02</td>\n",
              "                        <td id=\"T_c604cccc_7748_11e9_bb8a_0242ac1c0002row3_col3\" class=\"data row3 col3\" >0.02</td>\n",
              "                        <td id=\"T_c604cccc_7748_11e9_bb8a_0242ac1c0002row3_col4\" class=\"data row3 col4\" >0.02</td>\n",
              "                        <td id=\"T_c604cccc_7748_11e9_bb8a_0242ac1c0002row3_col5\" class=\"data row3 col5\" >0.02</td>\n",
              "                        <td id=\"T_c604cccc_7748_11e9_bb8a_0242ac1c0002row3_col6\" class=\"data row3 col6\" >0.02</td>\n",
              "                        <td id=\"T_c604cccc_7748_11e9_bb8a_0242ac1c0002row3_col7\" class=\"data row3 col7\" >0.43</td>\n",
              "                        <td id=\"T_c604cccc_7748_11e9_bb8a_0242ac1c0002row3_col8\" class=\"data row3 col8\" >0.02</td>\n",
              "                        <td id=\"T_c604cccc_7748_11e9_bb8a_0242ac1c0002row3_col9\" class=\"data row3 col9\" >0.4</td>\n",
              "                        <td id=\"T_c604cccc_7748_11e9_bb8a_0242ac1c0002row3_col10\" class=\"data row3 col10\" >7</td>\n",
              "            </tr>\n",
              "            <tr>\n",
              "                        <th id=\"T_c604cccc_7748_11e9_bb8a_0242ac1c0002level0_row4\" class=\"row_heading level0 row4\" >review4</th>\n",
              "                        <td id=\"T_c604cccc_7748_11e9_bb8a_0242ac1c0002row4_col0\" class=\"data row4 col0\" >0.57</td>\n",
              "                        <td id=\"T_c604cccc_7748_11e9_bb8a_0242ac1c0002row4_col1\" class=\"data row4 col1\" >0.25</td>\n",
              "                        <td id=\"T_c604cccc_7748_11e9_bb8a_0242ac1c0002row4_col2\" class=\"data row4 col2\" >0.02</td>\n",
              "                        <td id=\"T_c604cccc_7748_11e9_bb8a_0242ac1c0002row4_col3\" class=\"data row4 col3\" >0.02</td>\n",
              "                        <td id=\"T_c604cccc_7748_11e9_bb8a_0242ac1c0002row4_col4\" class=\"data row4 col4\" >0.06</td>\n",
              "                        <td id=\"T_c604cccc_7748_11e9_bb8a_0242ac1c0002row4_col5\" class=\"data row4 col5\" >0.02</td>\n",
              "                        <td id=\"T_c604cccc_7748_11e9_bb8a_0242ac1c0002row4_col6\" class=\"data row4 col6\" >0.02</td>\n",
              "                        <td id=\"T_c604cccc_7748_11e9_bb8a_0242ac1c0002row4_col7\" class=\"data row4 col7\" >0.02</td>\n",
              "                        <td id=\"T_c604cccc_7748_11e9_bb8a_0242ac1c0002row4_col8\" class=\"data row4 col8\" >0.02</td>\n",
              "                        <td id=\"T_c604cccc_7748_11e9_bb8a_0242ac1c0002row4_col9\" class=\"data row4 col9\" >0.02</td>\n",
              "                        <td id=\"T_c604cccc_7748_11e9_bb8a_0242ac1c0002row4_col10\" class=\"data row4 col10\" >0</td>\n",
              "            </tr>\n",
              "            <tr>\n",
              "                        <th id=\"T_c604cccc_7748_11e9_bb8a_0242ac1c0002level0_row5\" class=\"row_heading level0 row5\" >review5</th>\n",
              "                        <td id=\"T_c604cccc_7748_11e9_bb8a_0242ac1c0002row5_col0\" class=\"data row5 col0\" >0.41</td>\n",
              "                        <td id=\"T_c604cccc_7748_11e9_bb8a_0242ac1c0002row5_col1\" class=\"data row5 col1\" >0.02</td>\n",
              "                        <td id=\"T_c604cccc_7748_11e9_bb8a_0242ac1c0002row5_col2\" class=\"data row5 col2\" >0.02</td>\n",
              "                        <td id=\"T_c604cccc_7748_11e9_bb8a_0242ac1c0002row5_col3\" class=\"data row5 col3\" >0.02</td>\n",
              "                        <td id=\"T_c604cccc_7748_11e9_bb8a_0242ac1c0002row5_col4\" class=\"data row5 col4\" >0.02</td>\n",
              "                        <td id=\"T_c604cccc_7748_11e9_bb8a_0242ac1c0002row5_col5\" class=\"data row5 col5\" >0.02</td>\n",
              "                        <td id=\"T_c604cccc_7748_11e9_bb8a_0242ac1c0002row5_col6\" class=\"data row5 col6\" >0.02</td>\n",
              "                        <td id=\"T_c604cccc_7748_11e9_bb8a_0242ac1c0002row5_col7\" class=\"data row5 col7\" >0.02</td>\n",
              "                        <td id=\"T_c604cccc_7748_11e9_bb8a_0242ac1c0002row5_col8\" class=\"data row5 col8\" >0.02</td>\n",
              "                        <td id=\"T_c604cccc_7748_11e9_bb8a_0242ac1c0002row5_col9\" class=\"data row5 col9\" >0.42</td>\n",
              "                        <td id=\"T_c604cccc_7748_11e9_bb8a_0242ac1c0002row5_col10\" class=\"data row5 col10\" >9</td>\n",
              "            </tr>\n",
              "            <tr>\n",
              "                        <th id=\"T_c604cccc_7748_11e9_bb8a_0242ac1c0002level0_row6\" class=\"row_heading level0 row6\" >review6</th>\n",
              "                        <td id=\"T_c604cccc_7748_11e9_bb8a_0242ac1c0002row6_col0\" class=\"data row6 col0\" >0.02</td>\n",
              "                        <td id=\"T_c604cccc_7748_11e9_bb8a_0242ac1c0002row6_col1\" class=\"data row6 col1\" >0.02</td>\n",
              "                        <td id=\"T_c604cccc_7748_11e9_bb8a_0242ac1c0002row6_col2\" class=\"data row6 col2\" >0.02</td>\n",
              "                        <td id=\"T_c604cccc_7748_11e9_bb8a_0242ac1c0002row6_col3\" class=\"data row6 col3\" >0.02</td>\n",
              "                        <td id=\"T_c604cccc_7748_11e9_bb8a_0242ac1c0002row6_col4\" class=\"data row6 col4\" >0.02</td>\n",
              "                        <td id=\"T_c604cccc_7748_11e9_bb8a_0242ac1c0002row6_col5\" class=\"data row6 col5\" >0.83</td>\n",
              "                        <td id=\"T_c604cccc_7748_11e9_bb8a_0242ac1c0002row6_col6\" class=\"data row6 col6\" >0.02</td>\n",
              "                        <td id=\"T_c604cccc_7748_11e9_bb8a_0242ac1c0002row6_col7\" class=\"data row6 col7\" >0.02</td>\n",
              "                        <td id=\"T_c604cccc_7748_11e9_bb8a_0242ac1c0002row6_col8\" class=\"data row6 col8\" >0.02</td>\n",
              "                        <td id=\"T_c604cccc_7748_11e9_bb8a_0242ac1c0002row6_col9\" class=\"data row6 col9\" >0.02</td>\n",
              "                        <td id=\"T_c604cccc_7748_11e9_bb8a_0242ac1c0002row6_col10\" class=\"data row6 col10\" >5</td>\n",
              "            </tr>\n",
              "            <tr>\n",
              "                        <th id=\"T_c604cccc_7748_11e9_bb8a_0242ac1c0002level0_row7\" class=\"row_heading level0 row7\" >review7</th>\n",
              "                        <td id=\"T_c604cccc_7748_11e9_bb8a_0242ac1c0002row7_col0\" class=\"data row7 col0\" >0.02</td>\n",
              "                        <td id=\"T_c604cccc_7748_11e9_bb8a_0242ac1c0002row7_col1\" class=\"data row7 col1\" >0.02</td>\n",
              "                        <td id=\"T_c604cccc_7748_11e9_bb8a_0242ac1c0002row7_col2\" class=\"data row7 col2\" >0.02</td>\n",
              "                        <td id=\"T_c604cccc_7748_11e9_bb8a_0242ac1c0002row7_col3\" class=\"data row7 col3\" >0.02</td>\n",
              "                        <td id=\"T_c604cccc_7748_11e9_bb8a_0242ac1c0002row7_col4\" class=\"data row7 col4\" >0.02</td>\n",
              "                        <td id=\"T_c604cccc_7748_11e9_bb8a_0242ac1c0002row7_col5\" class=\"data row7 col5\" >0.41</td>\n",
              "                        <td id=\"T_c604cccc_7748_11e9_bb8a_0242ac1c0002row7_col6\" class=\"data row7 col6\" >0.02</td>\n",
              "                        <td id=\"T_c604cccc_7748_11e9_bb8a_0242ac1c0002row7_col7\" class=\"data row7 col7\" >0.02</td>\n",
              "                        <td id=\"T_c604cccc_7748_11e9_bb8a_0242ac1c0002row7_col8\" class=\"data row7 col8\" >0.02</td>\n",
              "                        <td id=\"T_c604cccc_7748_11e9_bb8a_0242ac1c0002row7_col9\" class=\"data row7 col9\" >0.46</td>\n",
              "                        <td id=\"T_c604cccc_7748_11e9_bb8a_0242ac1c0002row7_col10\" class=\"data row7 col10\" >9</td>\n",
              "            </tr>\n",
              "            <tr>\n",
              "                        <th id=\"T_c604cccc_7748_11e9_bb8a_0242ac1c0002level0_row8\" class=\"row_heading level0 row8\" >review8</th>\n",
              "                        <td id=\"T_c604cccc_7748_11e9_bb8a_0242ac1c0002row8_col0\" class=\"data row8 col0\" >0.02</td>\n",
              "                        <td id=\"T_c604cccc_7748_11e9_bb8a_0242ac1c0002row8_col1\" class=\"data row8 col1\" >0.02</td>\n",
              "                        <td id=\"T_c604cccc_7748_11e9_bb8a_0242ac1c0002row8_col2\" class=\"data row8 col2\" >0.02</td>\n",
              "                        <td id=\"T_c604cccc_7748_11e9_bb8a_0242ac1c0002row8_col3\" class=\"data row8 col3\" >0.76</td>\n",
              "                        <td id=\"T_c604cccc_7748_11e9_bb8a_0242ac1c0002row8_col4\" class=\"data row8 col4\" >0.02</td>\n",
              "                        <td id=\"T_c604cccc_7748_11e9_bb8a_0242ac1c0002row8_col5\" class=\"data row8 col5\" >0.02</td>\n",
              "                        <td id=\"T_c604cccc_7748_11e9_bb8a_0242ac1c0002row8_col6\" class=\"data row8 col6\" >0.02</td>\n",
              "                        <td id=\"T_c604cccc_7748_11e9_bb8a_0242ac1c0002row8_col7\" class=\"data row8 col7\" >0.02</td>\n",
              "                        <td id=\"T_c604cccc_7748_11e9_bb8a_0242ac1c0002row8_col8\" class=\"data row8 col8\" >0.02</td>\n",
              "                        <td id=\"T_c604cccc_7748_11e9_bb8a_0242ac1c0002row8_col9\" class=\"data row8 col9\" >0.1</td>\n",
              "                        <td id=\"T_c604cccc_7748_11e9_bb8a_0242ac1c0002row8_col10\" class=\"data row8 col10\" >3</td>\n",
              "            </tr>\n",
              "            <tr>\n",
              "                        <th id=\"T_c604cccc_7748_11e9_bb8a_0242ac1c0002level0_row9\" class=\"row_heading level0 row9\" >review9</th>\n",
              "                        <td id=\"T_c604cccc_7748_11e9_bb8a_0242ac1c0002row9_col0\" class=\"data row9 col0\" >0.02</td>\n",
              "                        <td id=\"T_c604cccc_7748_11e9_bb8a_0242ac1c0002row9_col1\" class=\"data row9 col1\" >0.44</td>\n",
              "                        <td id=\"T_c604cccc_7748_11e9_bb8a_0242ac1c0002row9_col2\" class=\"data row9 col2\" >0.02</td>\n",
              "                        <td id=\"T_c604cccc_7748_11e9_bb8a_0242ac1c0002row9_col3\" class=\"data row9 col3\" >0.02</td>\n",
              "                        <td id=\"T_c604cccc_7748_11e9_bb8a_0242ac1c0002row9_col4\" class=\"data row9 col4\" >0.02</td>\n",
              "                        <td id=\"T_c604cccc_7748_11e9_bb8a_0242ac1c0002row9_col5\" class=\"data row9 col5\" >0.4</td>\n",
              "                        <td id=\"T_c604cccc_7748_11e9_bb8a_0242ac1c0002row9_col6\" class=\"data row9 col6\" >0.02</td>\n",
              "                        <td id=\"T_c604cccc_7748_11e9_bb8a_0242ac1c0002row9_col7\" class=\"data row9 col7\" >0.02</td>\n",
              "                        <td id=\"T_c604cccc_7748_11e9_bb8a_0242ac1c0002row9_col8\" class=\"data row9 col8\" >0.05</td>\n",
              "                        <td id=\"T_c604cccc_7748_11e9_bb8a_0242ac1c0002row9_col9\" class=\"data row9 col9\" >0.02</td>\n",
              "                        <td id=\"T_c604cccc_7748_11e9_bb8a_0242ac1c0002row9_col10\" class=\"data row9 col10\" >1</td>\n",
              "            </tr>\n",
              "    </tbody></table>"
            ],
            "text/plain": [
              "<pandas.io.formats.style.Styler at 0x7f66bf3c8ef0>"
            ]
          },
          "metadata": {
            "tags": []
          },
          "execution_count": 30
        }
      ]
    },
    {
      "cell_type": "markdown",
      "metadata": {
        "id": "hM8FG3Sej-j3",
        "colab_type": "text"
      },
      "source": [
        "Topic Distribution"
      ]
    },
    {
      "cell_type": "code",
      "metadata": {
        "id": "wcuSUBZDj7GC",
        "colab_type": "code",
        "outputId": "72a5ceb9-44ba-4971-84a7-fab7928feb4d",
        "colab": {
          "base_uri": "https://localhost:8080/",
          "height": 359
        }
      },
      "source": [
        "df_topic_distribution = df_document_topic['dominant_topic'].value_counts().reset_index(name=\"Num Documents\")\n",
        "df_topic_distribution.columns = ['Topic Num', 'Num Documents']\n",
        "df_topic_distribution"
      ],
      "execution_count": 0,
      "outputs": [
        {
          "output_type": "execute_result",
          "data": {
            "text/html": [
              "<div>\n",
              "<style scoped>\n",
              "    .dataframe tbody tr th:only-of-type {\n",
              "        vertical-align: middle;\n",
              "    }\n",
              "\n",
              "    .dataframe tbody tr th {\n",
              "        vertical-align: top;\n",
              "    }\n",
              "\n",
              "    .dataframe thead th {\n",
              "        text-align: right;\n",
              "    }\n",
              "</style>\n",
              "<table border=\"1\" class=\"dataframe\">\n",
              "  <thead>\n",
              "    <tr style=\"text-align: right;\">\n",
              "      <th></th>\n",
              "      <th>Topic Num</th>\n",
              "      <th>Num Documents</th>\n",
              "    </tr>\n",
              "  </thead>\n",
              "  <tbody>\n",
              "    <tr>\n",
              "      <th>0</th>\n",
              "      <td>5</td>\n",
              "      <td>33046</td>\n",
              "    </tr>\n",
              "    <tr>\n",
              "      <th>1</th>\n",
              "      <td>9</td>\n",
              "      <td>15334</td>\n",
              "    </tr>\n",
              "    <tr>\n",
              "      <th>2</th>\n",
              "      <td>1</td>\n",
              "      <td>8550</td>\n",
              "    </tr>\n",
              "    <tr>\n",
              "      <th>3</th>\n",
              "      <td>7</td>\n",
              "      <td>5188</td>\n",
              "    </tr>\n",
              "    <tr>\n",
              "      <th>4</th>\n",
              "      <td>2</td>\n",
              "      <td>2866</td>\n",
              "    </tr>\n",
              "    <tr>\n",
              "      <th>5</th>\n",
              "      <td>0</td>\n",
              "      <td>2838</td>\n",
              "    </tr>\n",
              "    <tr>\n",
              "      <th>6</th>\n",
              "      <td>3</td>\n",
              "      <td>1054</td>\n",
              "    </tr>\n",
              "    <tr>\n",
              "      <th>7</th>\n",
              "      <td>6</td>\n",
              "      <td>260</td>\n",
              "    </tr>\n",
              "    <tr>\n",
              "      <th>8</th>\n",
              "      <td>8</td>\n",
              "      <td>74</td>\n",
              "    </tr>\n",
              "    <tr>\n",
              "      <th>9</th>\n",
              "      <td>4</td>\n",
              "      <td>61</td>\n",
              "    </tr>\n",
              "  </tbody>\n",
              "</table>\n",
              "</div>"
            ],
            "text/plain": [
              "   Topic Num  Num Documents\n",
              "0          5          33046\n",
              "1          9          15334\n",
              "2          1           8550\n",
              "3          7           5188\n",
              "4          2           2866\n",
              "5          0           2838\n",
              "6          3           1054\n",
              "7          6            260\n",
              "8          8             74\n",
              "9          4             61"
            ]
          },
          "metadata": {
            "tags": []
          },
          "execution_count": 31
        }
      ]
    },
    {
      "cell_type": "markdown",
      "metadata": {
        "id": "vfQJi0afkRSi",
        "colab_type": "text"
      },
      "source": [
        "See topics' keywords"
      ]
    },
    {
      "cell_type": "code",
      "metadata": {
        "id": "I7qQNeSMkRbv",
        "colab_type": "code",
        "outputId": "297a1ed3-a0ff-49af-b672-9e114a73ab07",
        "colab": {
          "base_uri": "https://localhost:8080/",
          "height": 425
        }
      },
      "source": [
        "# Topic-Keyword Matrix\n",
        "df_topic_keywords = pd.DataFrame(lda_model.components_)\n",
        "topicnames = [\"Topic\" + str(i) for i in range(lda_model.n_topics)]\n",
        "\n",
        "\n",
        "# Assign Column and Index\n",
        "df_topic_keywords.columns = vocab\n",
        "df_topic_keywords.index = topicnames\n",
        "\n",
        "# View\n",
        "df_topic_keywords"
      ],
      "execution_count": 0,
      "outputs": [
        {
          "output_type": "execute_result",
          "data": {
            "text/html": [
              "<div>\n",
              "<style scoped>\n",
              "    .dataframe tbody tr th:only-of-type {\n",
              "        vertical-align: middle;\n",
              "    }\n",
              "\n",
              "    .dataframe tbody tr th {\n",
              "        vertical-align: top;\n",
              "    }\n",
              "\n",
              "    .dataframe thead th {\n",
              "        text-align: right;\n",
              "    }\n",
              "</style>\n",
              "<table border=\"1\" class=\"dataframe\">\n",
              "  <thead>\n",
              "    <tr style=\"text-align: right;\">\n",
              "      <th></th>\n",
              "      <th>ability</th>\n",
              "      <th>able</th>\n",
              "      <th>absolute</th>\n",
              "      <th>absolutely</th>\n",
              "      <th>absolutely love</th>\n",
              "      <th>absorb</th>\n",
              "      <th>absorbent</th>\n",
              "      <th>absorption</th>\n",
              "      <th>acceptable</th>\n",
              "      <th>access</th>\n",
              "      <th>accident</th>\n",
              "      <th>accidentally</th>\n",
              "      <th>accord</th>\n",
              "      <th>account</th>\n",
              "      <th>accuracy</th>\n",
              "      <th>accurate</th>\n",
              "      <th>acetaminophen</th>\n",
              "      <th>ache</th>\n",
              "      <th>ache pain</th>\n",
              "      <th>achieve</th>\n",
              "      <th>acid</th>\n",
              "      <th>acids</th>\n",
              "      <th>acne</th>\n",
              "      <th>act</th>\n",
              "      <th>action</th>\n",
              "      <th>activate</th>\n",
              "      <th>active</th>\n",
              "      <th>active ingredient</th>\n",
              "      <th>activities</th>\n",
              "      <th>activity</th>\n",
              "      <th>actual</th>\n",
              "      <th>actually</th>\n",
              "      <th>actually work</th>\n",
              "      <th>adapter</th>\n",
              "      <th>add</th>\n",
              "      <th>addition</th>\n",
              "      <th>additional</th>\n",
              "      <th>additionally</th>\n",
              "      <th>additives</th>\n",
              "      <th>address</th>\n",
              "      <th>...</th>\n",
              "      <th>work think</th>\n",
              "      <th>work time</th>\n",
              "      <th>work try</th>\n",
              "      <th>work wonder</th>\n",
              "      <th>work work</th>\n",
              "      <th>workout</th>\n",
              "      <th>workouts</th>\n",
              "      <th>world</th>\n",
              "      <th>worry</th>\n",
              "      <th>worse</th>\n",
              "      <th>worst</th>\n",
              "      <th>worth</th>\n",
              "      <th>worth money</th>\n",
              "      <th>worth price</th>\n",
              "      <th>wouldn</th>\n",
              "      <th>wrap</th>\n",
              "      <th>wrinkle</th>\n",
              "      <th>wrist</th>\n",
              "      <th>wrists</th>\n",
              "      <th>write</th>\n",
              "      <th>write review</th>\n",
              "      <th>wrong</th>\n",
              "      <th>xylitol</th>\n",
              "      <th>yard</th>\n",
              "      <th>yeah</th>\n",
              "      <th>year</th>\n",
              "      <th>years</th>\n",
              "      <th>years try</th>\n",
              "      <th>years work</th>\n",
              "      <th>yeast</th>\n",
              "      <th>yellow</th>\n",
              "      <th>yesterday</th>\n",
              "      <th>yogurt</th>\n",
              "      <th>young</th>\n",
              "      <th>younger</th>\n",
              "      <th>yummy</th>\n",
              "      <th>zero</th>\n",
              "      <th>zinc</th>\n",
              "      <th>zippo</th>\n",
              "      <th>zone</th>\n",
              "    </tr>\n",
              "  </thead>\n",
              "  <tbody>\n",
              "    <tr>\n",
              "      <th>Topic0</th>\n",
              "      <td>0.100021</td>\n",
              "      <td>20.600673</td>\n",
              "      <td>0.100097</td>\n",
              "      <td>0.100034</td>\n",
              "      <td>0.100048</td>\n",
              "      <td>0.100040</td>\n",
              "      <td>12.360982</td>\n",
              "      <td>0.100165</td>\n",
              "      <td>0.100018</td>\n",
              "      <td>0.100027</td>\n",
              "      <td>11.921743</td>\n",
              "      <td>0.100148</td>\n",
              "      <td>0.100077</td>\n",
              "      <td>0.100019</td>\n",
              "      <td>0.100001</td>\n",
              "      <td>0.100007</td>\n",
              "      <td>0.100058</td>\n",
              "      <td>97.685156</td>\n",
              "      <td>41.132823</td>\n",
              "      <td>0.100079</td>\n",
              "      <td>0.100076</td>\n",
              "      <td>0.100003</td>\n",
              "      <td>0.100075</td>\n",
              "      <td>34.571430</td>\n",
              "      <td>0.100123</td>\n",
              "      <td>0.100016</td>\n",
              "      <td>0.100206</td>\n",
              "      <td>0.100018</td>\n",
              "      <td>15.086393</td>\n",
              "      <td>0.100042</td>\n",
              "      <td>0.100022</td>\n",
              "      <td>0.100048</td>\n",
              "      <td>0.100030</td>\n",
              "      <td>0.100003</td>\n",
              "      <td>0.100034</td>\n",
              "      <td>3.263626</td>\n",
              "      <td>7.478049</td>\n",
              "      <td>0.100017</td>\n",
              "      <td>0.100026</td>\n",
              "      <td>0.100027</td>\n",
              "      <td>...</td>\n",
              "      <td>0.100021</td>\n",
              "      <td>0.100060</td>\n",
              "      <td>0.100155</td>\n",
              "      <td>37.639039</td>\n",
              "      <td>0.100029</td>\n",
              "      <td>0.100024</td>\n",
              "      <td>0.100025</td>\n",
              "      <td>0.100028</td>\n",
              "      <td>0.100017</td>\n",
              "      <td>23.397737</td>\n",
              "      <td>25.295287</td>\n",
              "      <td>11.319036</td>\n",
              "      <td>0.100045</td>\n",
              "      <td>0.100111</td>\n",
              "      <td>0.100048</td>\n",
              "      <td>0.100057</td>\n",
              "      <td>0.100056</td>\n",
              "      <td>17.068248</td>\n",
              "      <td>14.597180</td>\n",
              "      <td>0.100013</td>\n",
              "      <td>0.100012</td>\n",
              "      <td>0.100021</td>\n",
              "      <td>0.100038</td>\n",
              "      <td>0.100022</td>\n",
              "      <td>0.100012</td>\n",
              "      <td>0.100057</td>\n",
              "      <td>63.072174</td>\n",
              "      <td>0.100027</td>\n",
              "      <td>21.883530</td>\n",
              "      <td>26.065577</td>\n",
              "      <td>0.100015</td>\n",
              "      <td>0.100295</td>\n",
              "      <td>0.100006</td>\n",
              "      <td>0.100142</td>\n",
              "      <td>0.100060</td>\n",
              "      <td>0.100007</td>\n",
              "      <td>0.100045</td>\n",
              "      <td>0.100031</td>\n",
              "      <td>0.100025</td>\n",
              "      <td>0.100063</td>\n",
              "    </tr>\n",
              "    <tr>\n",
              "      <th>Topic1</th>\n",
              "      <td>6.669268</td>\n",
              "      <td>19.134094</td>\n",
              "      <td>0.100630</td>\n",
              "      <td>16.699388</td>\n",
              "      <td>0.100032</td>\n",
              "      <td>0.100019</td>\n",
              "      <td>0.100066</td>\n",
              "      <td>0.100037</td>\n",
              "      <td>0.100084</td>\n",
              "      <td>0.100135</td>\n",
              "      <td>0.100021</td>\n",
              "      <td>28.455409</td>\n",
              "      <td>6.522579</td>\n",
              "      <td>0.100015</td>\n",
              "      <td>0.100003</td>\n",
              "      <td>0.100006</td>\n",
              "      <td>0.100005</td>\n",
              "      <td>0.100023</td>\n",
              "      <td>0.100001</td>\n",
              "      <td>0.100064</td>\n",
              "      <td>0.100040</td>\n",
              "      <td>0.100001</td>\n",
              "      <td>0.100298</td>\n",
              "      <td>0.100166</td>\n",
              "      <td>47.087159</td>\n",
              "      <td>0.100048</td>\n",
              "      <td>0.100191</td>\n",
              "      <td>0.100007</td>\n",
              "      <td>0.100014</td>\n",
              "      <td>0.100007</td>\n",
              "      <td>0.100049</td>\n",
              "      <td>53.102152</td>\n",
              "      <td>0.100036</td>\n",
              "      <td>0.100042</td>\n",
              "      <td>12.174998</td>\n",
              "      <td>0.100175</td>\n",
              "      <td>25.271907</td>\n",
              "      <td>0.100030</td>\n",
              "      <td>0.100009</td>\n",
              "      <td>0.100030</td>\n",
              "      <td>...</td>\n",
              "      <td>0.100038</td>\n",
              "      <td>0.100048</td>\n",
              "      <td>34.126487</td>\n",
              "      <td>0.100023</td>\n",
              "      <td>0.100038</td>\n",
              "      <td>0.100006</td>\n",
              "      <td>0.100012</td>\n",
              "      <td>0.100076</td>\n",
              "      <td>12.653226</td>\n",
              "      <td>7.245566</td>\n",
              "      <td>0.100631</td>\n",
              "      <td>74.615408</td>\n",
              "      <td>0.100156</td>\n",
              "      <td>24.632985</td>\n",
              "      <td>20.911897</td>\n",
              "      <td>0.100033</td>\n",
              "      <td>5.958586</td>\n",
              "      <td>0.100004</td>\n",
              "      <td>0.100003</td>\n",
              "      <td>0.100025</td>\n",
              "      <td>0.100026</td>\n",
              "      <td>21.476013</td>\n",
              "      <td>0.100026</td>\n",
              "      <td>0.100006</td>\n",
              "      <td>0.100039</td>\n",
              "      <td>62.388485</td>\n",
              "      <td>157.124668</td>\n",
              "      <td>0.100043</td>\n",
              "      <td>0.100052</td>\n",
              "      <td>0.100001</td>\n",
              "      <td>7.932612</td>\n",
              "      <td>12.672097</td>\n",
              "      <td>0.100005</td>\n",
              "      <td>0.100516</td>\n",
              "      <td>15.580551</td>\n",
              "      <td>0.100020</td>\n",
              "      <td>0.100032</td>\n",
              "      <td>0.100002</td>\n",
              "      <td>30.774632</td>\n",
              "      <td>0.100554</td>\n",
              "    </tr>\n",
              "    <tr>\n",
              "      <th>Topic2</th>\n",
              "      <td>0.100017</td>\n",
              "      <td>0.100018</td>\n",
              "      <td>8.472620</td>\n",
              "      <td>0.100065</td>\n",
              "      <td>0.100094</td>\n",
              "      <td>2.994989</td>\n",
              "      <td>46.383589</td>\n",
              "      <td>0.100038</td>\n",
              "      <td>0.100053</td>\n",
              "      <td>0.100075</td>\n",
              "      <td>0.100017</td>\n",
              "      <td>0.100111</td>\n",
              "      <td>0.100064</td>\n",
              "      <td>0.100001</td>\n",
              "      <td>0.100000</td>\n",
              "      <td>0.100057</td>\n",
              "      <td>0.100001</td>\n",
              "      <td>0.100004</td>\n",
              "      <td>0.100001</td>\n",
              "      <td>0.100045</td>\n",
              "      <td>0.100022</td>\n",
              "      <td>0.100011</td>\n",
              "      <td>0.100013</td>\n",
              "      <td>4.443377</td>\n",
              "      <td>0.100027</td>\n",
              "      <td>0.100028</td>\n",
              "      <td>0.100194</td>\n",
              "      <td>0.100042</td>\n",
              "      <td>0.100078</td>\n",
              "      <td>0.100025</td>\n",
              "      <td>0.100039</td>\n",
              "      <td>14.841916</td>\n",
              "      <td>0.100017</td>\n",
              "      <td>0.100001</td>\n",
              "      <td>47.041960</td>\n",
              "      <td>9.049316</td>\n",
              "      <td>0.100098</td>\n",
              "      <td>0.100026</td>\n",
              "      <td>0.100038</td>\n",
              "      <td>0.100008</td>\n",
              "      <td>...</td>\n",
              "      <td>0.100020</td>\n",
              "      <td>0.100020</td>\n",
              "      <td>0.100062</td>\n",
              "      <td>0.100006</td>\n",
              "      <td>0.100018</td>\n",
              "      <td>32.721816</td>\n",
              "      <td>0.100070</td>\n",
              "      <td>0.100034</td>\n",
              "      <td>0.100181</td>\n",
              "      <td>0.100026</td>\n",
              "      <td>0.100069</td>\n",
              "      <td>0.100054</td>\n",
              "      <td>0.100009</td>\n",
              "      <td>0.100061</td>\n",
              "      <td>5.588426</td>\n",
              "      <td>0.100018</td>\n",
              "      <td>0.100012</td>\n",
              "      <td>0.100002</td>\n",
              "      <td>0.100009</td>\n",
              "      <td>0.100012</td>\n",
              "      <td>0.100029</td>\n",
              "      <td>8.708162</td>\n",
              "      <td>0.100126</td>\n",
              "      <td>0.100012</td>\n",
              "      <td>0.100029</td>\n",
              "      <td>0.100039</td>\n",
              "      <td>2.087801</td>\n",
              "      <td>0.100022</td>\n",
              "      <td>0.100017</td>\n",
              "      <td>0.100017</td>\n",
              "      <td>0.100013</td>\n",
              "      <td>0.100095</td>\n",
              "      <td>0.100224</td>\n",
              "      <td>0.100067</td>\n",
              "      <td>0.100032</td>\n",
              "      <td>38.807159</td>\n",
              "      <td>0.100078</td>\n",
              "      <td>0.100006</td>\n",
              "      <td>0.100002</td>\n",
              "      <td>0.100077</td>\n",
              "    </tr>\n",
              "    <tr>\n",
              "      <th>Topic3</th>\n",
              "      <td>0.100034</td>\n",
              "      <td>0.100048</td>\n",
              "      <td>0.100027</td>\n",
              "      <td>8.877854</td>\n",
              "      <td>0.100053</td>\n",
              "      <td>0.100017</td>\n",
              "      <td>0.100005</td>\n",
              "      <td>0.100024</td>\n",
              "      <td>0.100041</td>\n",
              "      <td>0.100023</td>\n",
              "      <td>0.100003</td>\n",
              "      <td>0.100028</td>\n",
              "      <td>0.100036</td>\n",
              "      <td>0.100345</td>\n",
              "      <td>0.100004</td>\n",
              "      <td>0.100033</td>\n",
              "      <td>0.100001</td>\n",
              "      <td>0.100007</td>\n",
              "      <td>0.100001</td>\n",
              "      <td>0.100337</td>\n",
              "      <td>0.100008</td>\n",
              "      <td>0.100004</td>\n",
              "      <td>0.100003</td>\n",
              "      <td>0.100018</td>\n",
              "      <td>0.100029</td>\n",
              "      <td>0.100011</td>\n",
              "      <td>0.100078</td>\n",
              "      <td>0.100008</td>\n",
              "      <td>0.100073</td>\n",
              "      <td>0.100075</td>\n",
              "      <td>0.100022</td>\n",
              "      <td>8.100196</td>\n",
              "      <td>2.948367</td>\n",
              "      <td>0.100000</td>\n",
              "      <td>0.100030</td>\n",
              "      <td>0.100023</td>\n",
              "      <td>0.100036</td>\n",
              "      <td>0.100010</td>\n",
              "      <td>0.100008</td>\n",
              "      <td>0.100002</td>\n",
              "      <td>...</td>\n",
              "      <td>0.100418</td>\n",
              "      <td>51.894238</td>\n",
              "      <td>0.100428</td>\n",
              "      <td>3.986346</td>\n",
              "      <td>0.100070</td>\n",
              "      <td>38.247206</td>\n",
              "      <td>53.099143</td>\n",
              "      <td>0.100019</td>\n",
              "      <td>0.100026</td>\n",
              "      <td>0.100014</td>\n",
              "      <td>0.100018</td>\n",
              "      <td>41.674208</td>\n",
              "      <td>62.380060</td>\n",
              "      <td>0.100024</td>\n",
              "      <td>0.100061</td>\n",
              "      <td>0.100018</td>\n",
              "      <td>0.100035</td>\n",
              "      <td>0.100003</td>\n",
              "      <td>0.100004</td>\n",
              "      <td>0.100021</td>\n",
              "      <td>0.100034</td>\n",
              "      <td>0.100029</td>\n",
              "      <td>0.100012</td>\n",
              "      <td>0.100021</td>\n",
              "      <td>0.100081</td>\n",
              "      <td>0.100025</td>\n",
              "      <td>0.100020</td>\n",
              "      <td>0.100003</td>\n",
              "      <td>0.100026</td>\n",
              "      <td>0.100012</td>\n",
              "      <td>0.100004</td>\n",
              "      <td>0.100268</td>\n",
              "      <td>0.100070</td>\n",
              "      <td>0.100011</td>\n",
              "      <td>0.100074</td>\n",
              "      <td>0.100006</td>\n",
              "      <td>0.100074</td>\n",
              "      <td>0.100002</td>\n",
              "      <td>0.100000</td>\n",
              "      <td>0.100024</td>\n",
              "    </tr>\n",
              "    <tr>\n",
              "      <th>Topic4</th>\n",
              "      <td>0.100015</td>\n",
              "      <td>0.100015</td>\n",
              "      <td>0.100236</td>\n",
              "      <td>0.100015</td>\n",
              "      <td>0.100010</td>\n",
              "      <td>0.100009</td>\n",
              "      <td>0.100039</td>\n",
              "      <td>0.100045</td>\n",
              "      <td>32.456013</td>\n",
              "      <td>0.100081</td>\n",
              "      <td>0.100017</td>\n",
              "      <td>0.100062</td>\n",
              "      <td>0.100036</td>\n",
              "      <td>0.100082</td>\n",
              "      <td>0.100022</td>\n",
              "      <td>0.100024</td>\n",
              "      <td>0.100011</td>\n",
              "      <td>0.100006</td>\n",
              "      <td>0.100001</td>\n",
              "      <td>0.100032</td>\n",
              "      <td>0.100009</td>\n",
              "      <td>0.100002</td>\n",
              "      <td>0.100003</td>\n",
              "      <td>0.100092</td>\n",
              "      <td>0.100037</td>\n",
              "      <td>0.100013</td>\n",
              "      <td>0.100123</td>\n",
              "      <td>0.100020</td>\n",
              "      <td>5.218244</td>\n",
              "      <td>1.835450</td>\n",
              "      <td>0.100013</td>\n",
              "      <td>0.100019</td>\n",
              "      <td>0.100013</td>\n",
              "      <td>0.100009</td>\n",
              "      <td>0.100013</td>\n",
              "      <td>0.100019</td>\n",
              "      <td>0.100076</td>\n",
              "      <td>0.100011</td>\n",
              "      <td>0.100004</td>\n",
              "      <td>0.100007</td>\n",
              "      <td>...</td>\n",
              "      <td>0.100110</td>\n",
              "      <td>0.100039</td>\n",
              "      <td>0.100024</td>\n",
              "      <td>0.100005</td>\n",
              "      <td>0.100018</td>\n",
              "      <td>0.100015</td>\n",
              "      <td>0.100017</td>\n",
              "      <td>12.232890</td>\n",
              "      <td>0.100016</td>\n",
              "      <td>0.100019</td>\n",
              "      <td>0.100174</td>\n",
              "      <td>0.100022</td>\n",
              "      <td>0.100020</td>\n",
              "      <td>0.100072</td>\n",
              "      <td>0.100012</td>\n",
              "      <td>0.100044</td>\n",
              "      <td>31.076850</td>\n",
              "      <td>0.100038</td>\n",
              "      <td>0.100017</td>\n",
              "      <td>0.100010</td>\n",
              "      <td>0.100015</td>\n",
              "      <td>0.100012</td>\n",
              "      <td>0.100011</td>\n",
              "      <td>0.100013</td>\n",
              "      <td>0.100040</td>\n",
              "      <td>0.100014</td>\n",
              "      <td>0.100014</td>\n",
              "      <td>0.100009</td>\n",
              "      <td>0.100006</td>\n",
              "      <td>0.100010</td>\n",
              "      <td>0.100014</td>\n",
              "      <td>0.100062</td>\n",
              "      <td>0.100012</td>\n",
              "      <td>0.100071</td>\n",
              "      <td>0.100021</td>\n",
              "      <td>0.100014</td>\n",
              "      <td>0.100023</td>\n",
              "      <td>0.100006</td>\n",
              "      <td>0.100002</td>\n",
              "      <td>0.100093</td>\n",
              "    </tr>\n",
              "    <tr>\n",
              "      <th>Topic5</th>\n",
              "      <td>41.804307</td>\n",
              "      <td>214.282285</td>\n",
              "      <td>0.100418</td>\n",
              "      <td>91.784729</td>\n",
              "      <td>35.361747</td>\n",
              "      <td>50.969842</td>\n",
              "      <td>0.100252</td>\n",
              "      <td>0.100112</td>\n",
              "      <td>0.100083</td>\n",
              "      <td>0.100131</td>\n",
              "      <td>21.158270</td>\n",
              "      <td>0.100202</td>\n",
              "      <td>31.290726</td>\n",
              "      <td>27.267964</td>\n",
              "      <td>41.051136</td>\n",
              "      <td>189.883373</td>\n",
              "      <td>0.100063</td>\n",
              "      <td>0.100020</td>\n",
              "      <td>0.100003</td>\n",
              "      <td>30.831616</td>\n",
              "      <td>0.100050</td>\n",
              "      <td>0.100003</td>\n",
              "      <td>0.100092</td>\n",
              "      <td>0.100186</td>\n",
              "      <td>0.100125</td>\n",
              "      <td>17.987710</td>\n",
              "      <td>0.100366</td>\n",
              "      <td>0.100014</td>\n",
              "      <td>0.100118</td>\n",
              "      <td>25.760112</td>\n",
              "      <td>58.876940</td>\n",
              "      <td>214.435048</td>\n",
              "      <td>39.062575</td>\n",
              "      <td>22.881488</td>\n",
              "      <td>92.354633</td>\n",
              "      <td>59.241072</td>\n",
              "      <td>0.100178</td>\n",
              "      <td>22.047911</td>\n",
              "      <td>0.100060</td>\n",
              "      <td>17.729684</td>\n",
              "      <td>...</td>\n",
              "      <td>32.052823</td>\n",
              "      <td>0.100097</td>\n",
              "      <td>0.100141</td>\n",
              "      <td>13.399409</td>\n",
              "      <td>34.920360</td>\n",
              "      <td>18.208734</td>\n",
              "      <td>0.100072</td>\n",
              "      <td>58.330102</td>\n",
              "      <td>138.370796</td>\n",
              "      <td>42.899914</td>\n",
              "      <td>0.100293</td>\n",
              "      <td>211.082541</td>\n",
              "      <td>0.100093</td>\n",
              "      <td>0.100185</td>\n",
              "      <td>131.025018</td>\n",
              "      <td>154.663482</td>\n",
              "      <td>0.100045</td>\n",
              "      <td>69.259683</td>\n",
              "      <td>16.446436</td>\n",
              "      <td>105.696377</td>\n",
              "      <td>37.354812</td>\n",
              "      <td>116.902460</td>\n",
              "      <td>0.100004</td>\n",
              "      <td>30.818297</td>\n",
              "      <td>35.496931</td>\n",
              "      <td>196.473065</td>\n",
              "      <td>318.246359</td>\n",
              "      <td>16.028304</td>\n",
              "      <td>27.418356</td>\n",
              "      <td>0.100015</td>\n",
              "      <td>35.228887</td>\n",
              "      <td>0.100218</td>\n",
              "      <td>0.100021</td>\n",
              "      <td>0.100369</td>\n",
              "      <td>0.100100</td>\n",
              "      <td>0.100011</td>\n",
              "      <td>37.116314</td>\n",
              "      <td>0.100013</td>\n",
              "      <td>0.100021</td>\n",
              "      <td>0.100495</td>\n",
              "    </tr>\n",
              "    <tr>\n",
              "      <th>Topic6</th>\n",
              "      <td>0.100011</td>\n",
              "      <td>0.100017</td>\n",
              "      <td>0.100159</td>\n",
              "      <td>0.100018</td>\n",
              "      <td>0.100012</td>\n",
              "      <td>0.100007</td>\n",
              "      <td>0.100056</td>\n",
              "      <td>0.100026</td>\n",
              "      <td>0.100010</td>\n",
              "      <td>30.189136</td>\n",
              "      <td>0.100010</td>\n",
              "      <td>5.707656</td>\n",
              "      <td>0.100012</td>\n",
              "      <td>0.100012</td>\n",
              "      <td>0.100001</td>\n",
              "      <td>0.100003</td>\n",
              "      <td>0.100011</td>\n",
              "      <td>0.100017</td>\n",
              "      <td>0.100003</td>\n",
              "      <td>0.100010</td>\n",
              "      <td>0.100008</td>\n",
              "      <td>0.100000</td>\n",
              "      <td>0.100005</td>\n",
              "      <td>0.100022</td>\n",
              "      <td>0.100078</td>\n",
              "      <td>0.100010</td>\n",
              "      <td>0.100053</td>\n",
              "      <td>0.100010</td>\n",
              "      <td>0.100049</td>\n",
              "      <td>0.100028</td>\n",
              "      <td>0.100005</td>\n",
              "      <td>0.100018</td>\n",
              "      <td>0.100013</td>\n",
              "      <td>0.100007</td>\n",
              "      <td>0.100023</td>\n",
              "      <td>0.100099</td>\n",
              "      <td>0.100037</td>\n",
              "      <td>0.100003</td>\n",
              "      <td>0.100008</td>\n",
              "      <td>0.100011</td>\n",
              "      <td>...</td>\n",
              "      <td>0.100028</td>\n",
              "      <td>0.100027</td>\n",
              "      <td>0.100190</td>\n",
              "      <td>0.100010</td>\n",
              "      <td>18.292662</td>\n",
              "      <td>0.100009</td>\n",
              "      <td>0.100009</td>\n",
              "      <td>0.100016</td>\n",
              "      <td>0.100015</td>\n",
              "      <td>0.100014</td>\n",
              "      <td>0.100052</td>\n",
              "      <td>0.100022</td>\n",
              "      <td>0.100017</td>\n",
              "      <td>0.100090</td>\n",
              "      <td>0.100015</td>\n",
              "      <td>2.733489</td>\n",
              "      <td>0.100012</td>\n",
              "      <td>0.100042</td>\n",
              "      <td>0.100032</td>\n",
              "      <td>0.100011</td>\n",
              "      <td>0.100020</td>\n",
              "      <td>0.100016</td>\n",
              "      <td>0.100001</td>\n",
              "      <td>0.100047</td>\n",
              "      <td>0.100008</td>\n",
              "      <td>0.100017</td>\n",
              "      <td>0.100017</td>\n",
              "      <td>0.100017</td>\n",
              "      <td>0.100007</td>\n",
              "      <td>0.100005</td>\n",
              "      <td>0.100008</td>\n",
              "      <td>0.100070</td>\n",
              "      <td>0.100005</td>\n",
              "      <td>0.100098</td>\n",
              "      <td>0.100019</td>\n",
              "      <td>0.100001</td>\n",
              "      <td>0.100026</td>\n",
              "      <td>0.100002</td>\n",
              "      <td>0.100001</td>\n",
              "      <td>0.100033</td>\n",
              "    </tr>\n",
              "    <tr>\n",
              "      <th>Topic7</th>\n",
              "      <td>0.100031</td>\n",
              "      <td>35.801668</td>\n",
              "      <td>0.100028</td>\n",
              "      <td>18.609333</td>\n",
              "      <td>0.100076</td>\n",
              "      <td>2.408067</td>\n",
              "      <td>0.100027</td>\n",
              "      <td>0.100049</td>\n",
              "      <td>0.100040</td>\n",
              "      <td>0.100059</td>\n",
              "      <td>0.100023</td>\n",
              "      <td>0.100309</td>\n",
              "      <td>31.233442</td>\n",
              "      <td>0.100188</td>\n",
              "      <td>0.100002</td>\n",
              "      <td>0.100041</td>\n",
              "      <td>0.100096</td>\n",
              "      <td>19.016941</td>\n",
              "      <td>0.100007</td>\n",
              "      <td>0.100195</td>\n",
              "      <td>47.733873</td>\n",
              "      <td>0.100012</td>\n",
              "      <td>0.100011</td>\n",
              "      <td>0.100196</td>\n",
              "      <td>0.100052</td>\n",
              "      <td>6.886016</td>\n",
              "      <td>104.049434</td>\n",
              "      <td>36.876694</td>\n",
              "      <td>0.100085</td>\n",
              "      <td>12.107159</td>\n",
              "      <td>0.100032</td>\n",
              "      <td>72.619338</td>\n",
              "      <td>19.395516</td>\n",
              "      <td>0.100001</td>\n",
              "      <td>11.231156</td>\n",
              "      <td>7.612647</td>\n",
              "      <td>0.100023</td>\n",
              "      <td>0.100163</td>\n",
              "      <td>0.100016</td>\n",
              "      <td>0.100011</td>\n",
              "      <td>...</td>\n",
              "      <td>0.100367</td>\n",
              "      <td>0.100093</td>\n",
              "      <td>0.100337</td>\n",
              "      <td>0.100028</td>\n",
              "      <td>0.100051</td>\n",
              "      <td>69.490465</td>\n",
              "      <td>38.194239</td>\n",
              "      <td>13.640863</td>\n",
              "      <td>17.472231</td>\n",
              "      <td>29.884629</td>\n",
              "      <td>24.790081</td>\n",
              "      <td>0.100064</td>\n",
              "      <td>0.100013</td>\n",
              "      <td>0.100014</td>\n",
              "      <td>22.006192</td>\n",
              "      <td>0.100066</td>\n",
              "      <td>0.100032</td>\n",
              "      <td>0.100007</td>\n",
              "      <td>0.100009</td>\n",
              "      <td>18.443236</td>\n",
              "      <td>13.022313</td>\n",
              "      <td>0.100036</td>\n",
              "      <td>0.100029</td>\n",
              "      <td>0.100038</td>\n",
              "      <td>0.100038</td>\n",
              "      <td>41.130335</td>\n",
              "      <td>39.975996</td>\n",
              "      <td>0.100022</td>\n",
              "      <td>0.100053</td>\n",
              "      <td>31.381532</td>\n",
              "      <td>4.545451</td>\n",
              "      <td>0.100298</td>\n",
              "      <td>0.100103</td>\n",
              "      <td>0.100044</td>\n",
              "      <td>29.451573</td>\n",
              "      <td>0.100051</td>\n",
              "      <td>27.559729</td>\n",
              "      <td>0.100060</td>\n",
              "      <td>0.100001</td>\n",
              "      <td>20.284026</td>\n",
              "    </tr>\n",
              "    <tr>\n",
              "      <th>Topic8</th>\n",
              "      <td>0.100005</td>\n",
              "      <td>0.100018</td>\n",
              "      <td>0.100080</td>\n",
              "      <td>0.100016</td>\n",
              "      <td>0.100009</td>\n",
              "      <td>0.100011</td>\n",
              "      <td>0.100158</td>\n",
              "      <td>0.100019</td>\n",
              "      <td>0.100010</td>\n",
              "      <td>0.100006</td>\n",
              "      <td>0.100021</td>\n",
              "      <td>0.100018</td>\n",
              "      <td>0.100021</td>\n",
              "      <td>0.100017</td>\n",
              "      <td>0.100001</td>\n",
              "      <td>0.100005</td>\n",
              "      <td>0.100120</td>\n",
              "      <td>0.100003</td>\n",
              "      <td>0.100002</td>\n",
              "      <td>0.100003</td>\n",
              "      <td>0.100005</td>\n",
              "      <td>0.100005</td>\n",
              "      <td>0.100074</td>\n",
              "      <td>0.100025</td>\n",
              "      <td>0.100017</td>\n",
              "      <td>0.100002</td>\n",
              "      <td>0.100145</td>\n",
              "      <td>0.100002</td>\n",
              "      <td>0.100071</td>\n",
              "      <td>0.100009</td>\n",
              "      <td>0.100010</td>\n",
              "      <td>0.100016</td>\n",
              "      <td>0.100004</td>\n",
              "      <td>0.100001</td>\n",
              "      <td>0.100016</td>\n",
              "      <td>0.100026</td>\n",
              "      <td>0.100013</td>\n",
              "      <td>0.100013</td>\n",
              "      <td>0.100017</td>\n",
              "      <td>0.100007</td>\n",
              "      <td>...</td>\n",
              "      <td>0.100003</td>\n",
              "      <td>0.100017</td>\n",
              "      <td>0.100031</td>\n",
              "      <td>0.100004</td>\n",
              "      <td>0.100008</td>\n",
              "      <td>0.100006</td>\n",
              "      <td>0.100008</td>\n",
              "      <td>0.100047</td>\n",
              "      <td>0.100019</td>\n",
              "      <td>0.100028</td>\n",
              "      <td>5.634200</td>\n",
              "      <td>0.100030</td>\n",
              "      <td>0.100017</td>\n",
              "      <td>12.242687</td>\n",
              "      <td>0.100022</td>\n",
              "      <td>2.091122</td>\n",
              "      <td>0.100013</td>\n",
              "      <td>0.100005</td>\n",
              "      <td>0.100003</td>\n",
              "      <td>0.100010</td>\n",
              "      <td>0.100010</td>\n",
              "      <td>0.100022</td>\n",
              "      <td>0.100008</td>\n",
              "      <td>0.100022</td>\n",
              "      <td>0.100004</td>\n",
              "      <td>0.100030</td>\n",
              "      <td>0.100030</td>\n",
              "      <td>0.100004</td>\n",
              "      <td>0.100017</td>\n",
              "      <td>0.100004</td>\n",
              "      <td>0.100007</td>\n",
              "      <td>0.100019</td>\n",
              "      <td>0.100010</td>\n",
              "      <td>0.100147</td>\n",
              "      <td>0.100011</td>\n",
              "      <td>0.100005</td>\n",
              "      <td>0.100013</td>\n",
              "      <td>0.100002</td>\n",
              "      <td>0.100000</td>\n",
              "      <td>0.100003</td>\n",
              "    </tr>\n",
              "    <tr>\n",
              "      <th>Topic9</th>\n",
              "      <td>23.162495</td>\n",
              "      <td>68.087893</td>\n",
              "      <td>19.679903</td>\n",
              "      <td>41.043973</td>\n",
              "      <td>12.609932</td>\n",
              "      <td>88.416358</td>\n",
              "      <td>0.100026</td>\n",
              "      <td>48.363195</td>\n",
              "      <td>0.100056</td>\n",
              "      <td>0.100082</td>\n",
              "      <td>0.100037</td>\n",
              "      <td>0.100217</td>\n",
              "      <td>0.100117</td>\n",
              "      <td>0.100134</td>\n",
              "      <td>0.100004</td>\n",
              "      <td>0.100056</td>\n",
              "      <td>23.185928</td>\n",
              "      <td>0.100103</td>\n",
              "      <td>0.100008</td>\n",
              "      <td>0.100546</td>\n",
              "      <td>109.247856</td>\n",
              "      <td>44.421727</td>\n",
              "      <td>45.314915</td>\n",
              "      <td>0.100261</td>\n",
              "      <td>13.015653</td>\n",
              "      <td>0.100094</td>\n",
              "      <td>0.100161</td>\n",
              "      <td>0.100042</td>\n",
              "      <td>0.100097</td>\n",
              "      <td>0.100053</td>\n",
              "      <td>26.063973</td>\n",
              "      <td>91.818531</td>\n",
              "      <td>9.757710</td>\n",
              "      <td>0.100002</td>\n",
              "      <td>116.139601</td>\n",
              "      <td>53.360166</td>\n",
              "      <td>49.214244</td>\n",
              "      <td>0.100255</td>\n",
              "      <td>30.340002</td>\n",
              "      <td>11.163937</td>\n",
              "      <td>...</td>\n",
              "      <td>0.100246</td>\n",
              "      <td>0.100055</td>\n",
              "      <td>0.100261</td>\n",
              "      <td>0.100025</td>\n",
              "      <td>20.434773</td>\n",
              "      <td>37.788977</td>\n",
              "      <td>0.100047</td>\n",
              "      <td>0.100070</td>\n",
              "      <td>22.928402</td>\n",
              "      <td>21.459076</td>\n",
              "      <td>20.722301</td>\n",
              "      <td>97.639547</td>\n",
              "      <td>4.962064</td>\n",
              "      <td>25.844301</td>\n",
              "      <td>34.735617</td>\n",
              "      <td>0.100048</td>\n",
              "      <td>0.100091</td>\n",
              "      <td>0.100008</td>\n",
              "      <td>0.100004</td>\n",
              "      <td>24.784911</td>\n",
              "      <td>0.100075</td>\n",
              "      <td>34.070917</td>\n",
              "      <td>25.835244</td>\n",
              "      <td>0.100022</td>\n",
              "      <td>7.974952</td>\n",
              "      <td>99.680129</td>\n",
              "      <td>227.014506</td>\n",
              "      <td>14.201959</td>\n",
              "      <td>0.100036</td>\n",
              "      <td>0.100082</td>\n",
              "      <td>23.659033</td>\n",
              "      <td>24.272654</td>\n",
              "      <td>48.318841</td>\n",
              "      <td>57.465818</td>\n",
              "      <td>0.100108</td>\n",
              "      <td>7.120076</td>\n",
              "      <td>0.100063</td>\n",
              "      <td>50.977016</td>\n",
              "      <td>0.100003</td>\n",
              "      <td>0.100069</td>\n",
              "    </tr>\n",
              "  </tbody>\n",
              "</table>\n",
              "<p>10 rows × 3000 columns</p>\n",
              "</div>"
            ],
            "text/plain": [
              "          ability        able   absolute  ...       zinc      zippo       zone\n",
              "Topic0   0.100021   20.600673   0.100097  ...   0.100031   0.100025   0.100063\n",
              "Topic1   6.669268   19.134094   0.100630  ...   0.100002  30.774632   0.100554\n",
              "Topic2   0.100017    0.100018   8.472620  ...   0.100006   0.100002   0.100077\n",
              "Topic3   0.100034    0.100048   0.100027  ...   0.100002   0.100000   0.100024\n",
              "Topic4   0.100015    0.100015   0.100236  ...   0.100006   0.100002   0.100093\n",
              "Topic5  41.804307  214.282285   0.100418  ...   0.100013   0.100021   0.100495\n",
              "Topic6   0.100011    0.100017   0.100159  ...   0.100002   0.100001   0.100033\n",
              "Topic7   0.100031   35.801668   0.100028  ...   0.100060   0.100001  20.284026\n",
              "Topic8   0.100005    0.100018   0.100080  ...   0.100002   0.100000   0.100003\n",
              "Topic9  23.162495   68.087893  19.679903  ...  50.977016   0.100003   0.100069\n",
              "\n",
              "[10 rows x 3000 columns]"
            ]
          },
          "metadata": {
            "tags": []
          },
          "execution_count": 32
        }
      ]
    },
    {
      "cell_type": "code",
      "metadata": {
        "id": "vyZS4TXmtvc-",
        "colab_type": "code",
        "colab": {}
      },
      "source": [
        "df_topic = df_topic_keywords.transpose()"
      ],
      "execution_count": 0,
      "outputs": []
    },
    {
      "cell_type": "code",
      "metadata": {
        "id": "WHc8bvTwABpE",
        "colab_type": "code",
        "outputId": "167ec400-c84e-4754-a02c-a64b4c3e1019",
        "colab": {
          "base_uri": "https://localhost:8080/",
          "height": 272
        }
      },
      "source": [
        "df_topic.info()"
      ],
      "execution_count": 0,
      "outputs": [
        {
          "output_type": "stream",
          "text": [
            "<class 'pandas.core.frame.DataFrame'>\n",
            "Index: 3000 entries, ability to zone\n",
            "Data columns (total 10 columns):\n",
            "Topic0    3000 non-null float64\n",
            "Topic1    3000 non-null float64\n",
            "Topic2    3000 non-null float64\n",
            "Topic3    3000 non-null float64\n",
            "Topic4    3000 non-null float64\n",
            "Topic5    3000 non-null float64\n",
            "Topic6    3000 non-null float64\n",
            "Topic7    3000 non-null float64\n",
            "Topic8    3000 non-null float64\n",
            "Topic9    3000 non-null float64\n",
            "dtypes: float64(10)\n",
            "memory usage: 337.8+ KB\n"
          ],
          "name": "stdout"
        }
      ]
    },
    {
      "cell_type": "code",
      "metadata": {
        "id": "2TRF8kdSvfrK",
        "colab_type": "code",
        "outputId": "9d123ef5-bcba-4f8b-86f3-0411cadcfc88",
        "colab": {
          "base_uri": "https://localhost:8080/",
          "height": 359
        }
      },
      "source": [
        "df_topic.sort_values('Topic5',ascending = False).head(10) "
      ],
      "execution_count": 0,
      "outputs": [
        {
          "output_type": "execute_result",
          "data": {
            "text/html": [
              "<div>\n",
              "<style scoped>\n",
              "    .dataframe tbody tr th:only-of-type {\n",
              "        vertical-align: middle;\n",
              "    }\n",
              "\n",
              "    .dataframe tbody tr th {\n",
              "        vertical-align: top;\n",
              "    }\n",
              "\n",
              "    .dataframe thead th {\n",
              "        text-align: right;\n",
              "    }\n",
              "</style>\n",
              "<table border=\"1\" class=\"dataframe\">\n",
              "  <thead>\n",
              "    <tr style=\"text-align: right;\">\n",
              "      <th></th>\n",
              "      <th>Topic0</th>\n",
              "      <th>Topic1</th>\n",
              "      <th>Topic2</th>\n",
              "      <th>Topic3</th>\n",
              "      <th>Topic4</th>\n",
              "      <th>Topic5</th>\n",
              "      <th>Topic6</th>\n",
              "      <th>Topic7</th>\n",
              "      <th>Topic8</th>\n",
              "      <th>Topic9</th>\n",
              "    </tr>\n",
              "  </thead>\n",
              "  <tbody>\n",
              "    <tr>\n",
              "      <th>work</th>\n",
              "      <td>181.159619</td>\n",
              "      <td>199.005822</td>\n",
              "      <td>21.938492</td>\n",
              "      <td>83.442807</td>\n",
              "      <td>0.100018</td>\n",
              "      <td>1032.368011</td>\n",
              "      <td>103.830646</td>\n",
              "      <td>205.744583</td>\n",
              "      <td>1.695035</td>\n",
              "      <td>359.517687</td>\n",
              "    </tr>\n",
              "    <tr>\n",
              "      <th>like</th>\n",
              "      <td>60.308547</td>\n",
              "      <td>268.177358</td>\n",
              "      <td>225.659166</td>\n",
              "      <td>6.631139</td>\n",
              "      <td>0.100017</td>\n",
              "      <td>864.321972</td>\n",
              "      <td>3.739617</td>\n",
              "      <td>229.494505</td>\n",
              "      <td>0.100018</td>\n",
              "      <td>276.581420</td>\n",
              "    </tr>\n",
              "    <tr>\n",
              "      <th>great</th>\n",
              "      <td>105.927594</td>\n",
              "      <td>255.755526</td>\n",
              "      <td>205.311546</td>\n",
              "      <td>46.908939</td>\n",
              "      <td>0.100025</td>\n",
              "      <td>794.197481</td>\n",
              "      <td>34.706414</td>\n",
              "      <td>73.870646</td>\n",
              "      <td>6.656202</td>\n",
              "      <td>327.492316</td>\n",
              "    </tr>\n",
              "    <tr>\n",
              "      <th>time</th>\n",
              "      <td>57.894790</td>\n",
              "      <td>170.580317</td>\n",
              "      <td>17.842774</td>\n",
              "      <td>54.661380</td>\n",
              "      <td>0.100016</td>\n",
              "      <td>766.957209</td>\n",
              "      <td>0.100021</td>\n",
              "      <td>119.901607</td>\n",
              "      <td>0.100017</td>\n",
              "      <td>223.208370</td>\n",
              "    </tr>\n",
              "    <tr>\n",
              "      <th>product</th>\n",
              "      <td>138.230776</td>\n",
              "      <td>111.792489</td>\n",
              "      <td>26.707536</td>\n",
              "      <td>80.913273</td>\n",
              "      <td>0.100016</td>\n",
              "      <td>748.257160</td>\n",
              "      <td>7.150199</td>\n",
              "      <td>95.930229</td>\n",
              "      <td>0.100019</td>\n",
              "      <td>868.219736</td>\n",
              "    </tr>\n",
              "    <tr>\n",
              "      <th>good</th>\n",
              "      <td>35.566626</td>\n",
              "      <td>219.280036</td>\n",
              "      <td>166.995527</td>\n",
              "      <td>8.926843</td>\n",
              "      <td>0.100019</td>\n",
              "      <td>742.733617</td>\n",
              "      <td>20.507357</td>\n",
              "      <td>144.720387</td>\n",
              "      <td>0.100022</td>\n",
              "      <td>509.432629</td>\n",
              "    </tr>\n",
              "    <tr>\n",
              "      <th>price</th>\n",
              "      <td>5.904884</td>\n",
              "      <td>99.914768</td>\n",
              "      <td>33.223063</td>\n",
              "      <td>0.100025</td>\n",
              "      <td>0.100018</td>\n",
              "      <td>703.912808</td>\n",
              "      <td>17.171621</td>\n",
              "      <td>0.100037</td>\n",
              "      <td>13.750595</td>\n",
              "      <td>317.302308</td>\n",
              "    </tr>\n",
              "    <tr>\n",
              "      <th>need</th>\n",
              "      <td>39.350661</td>\n",
              "      <td>97.204136</td>\n",
              "      <td>12.750409</td>\n",
              "      <td>7.683498</td>\n",
              "      <td>0.100021</td>\n",
              "      <td>702.271323</td>\n",
              "      <td>3.026580</td>\n",
              "      <td>99.538325</td>\n",
              "      <td>0.100023</td>\n",
              "      <td>254.804712</td>\n",
              "    </tr>\n",
              "    <tr>\n",
              "      <th>clean</th>\n",
              "      <td>5.961718</td>\n",
              "      <td>370.114463</td>\n",
              "      <td>0.100066</td>\n",
              "      <td>0.100034</td>\n",
              "      <td>0.100009</td>\n",
              "      <td>656.092017</td>\n",
              "      <td>0.753348</td>\n",
              "      <td>0.100028</td>\n",
              "      <td>0.100018</td>\n",
              "      <td>19.446631</td>\n",
              "    </tr>\n",
              "    <tr>\n",
              "      <th>buy</th>\n",
              "      <td>56.047618</td>\n",
              "      <td>119.505585</td>\n",
              "      <td>23.249740</td>\n",
              "      <td>7.212391</td>\n",
              "      <td>0.100017</td>\n",
              "      <td>602.843197</td>\n",
              "      <td>2.282450</td>\n",
              "      <td>32.838080</td>\n",
              "      <td>5.133709</td>\n",
              "      <td>162.234322</td>\n",
              "    </tr>\n",
              "  </tbody>\n",
              "</table>\n",
              "</div>"
            ],
            "text/plain": [
              "             Topic0      Topic1      Topic2  ...      Topic7     Topic8      Topic9\n",
              "work     181.159619  199.005822   21.938492  ...  205.744583   1.695035  359.517687\n",
              "like      60.308547  268.177358  225.659166  ...  229.494505   0.100018  276.581420\n",
              "great    105.927594  255.755526  205.311546  ...   73.870646   6.656202  327.492316\n",
              "time      57.894790  170.580317   17.842774  ...  119.901607   0.100017  223.208370\n",
              "product  138.230776  111.792489   26.707536  ...   95.930229   0.100019  868.219736\n",
              "good      35.566626  219.280036  166.995527  ...  144.720387   0.100022  509.432629\n",
              "price      5.904884   99.914768   33.223063  ...    0.100037  13.750595  317.302308\n",
              "need      39.350661   97.204136   12.750409  ...   99.538325   0.100023  254.804712\n",
              "clean      5.961718  370.114463    0.100066  ...    0.100028   0.100018   19.446631\n",
              "buy       56.047618  119.505585   23.249740  ...   32.838080   5.133709  162.234322\n",
              "\n",
              "[10 rows x 10 columns]"
            ]
          },
          "metadata": {
            "tags": []
          },
          "execution_count": 44
        }
      ]
    },
    {
      "cell_type": "code",
      "metadata": {
        "id": "ziGQcpSav2TC",
        "colab_type": "code",
        "outputId": "ef2b19f9-97fd-40ee-8616-f268c240a041",
        "colab": {
          "base_uri": "https://localhost:8080/",
          "height": 359
        }
      },
      "source": [
        "df_topic.sort_values('Topic9',ascending = False).head(10) "
      ],
      "execution_count": 0,
      "outputs": [
        {
          "output_type": "execute_result",
          "data": {
            "text/html": [
              "<div>\n",
              "<style scoped>\n",
              "    .dataframe tbody tr th:only-of-type {\n",
              "        vertical-align: middle;\n",
              "    }\n",
              "\n",
              "    .dataframe tbody tr th {\n",
              "        vertical-align: top;\n",
              "    }\n",
              "\n",
              "    .dataframe thead th {\n",
              "        text-align: right;\n",
              "    }\n",
              "</style>\n",
              "<table border=\"1\" class=\"dataframe\">\n",
              "  <thead>\n",
              "    <tr style=\"text-align: right;\">\n",
              "      <th></th>\n",
              "      <th>Topic0</th>\n",
              "      <th>Topic1</th>\n",
              "      <th>Topic2</th>\n",
              "      <th>Topic3</th>\n",
              "      <th>Topic4</th>\n",
              "      <th>Topic5</th>\n",
              "      <th>Topic6</th>\n",
              "      <th>Topic7</th>\n",
              "      <th>Topic8</th>\n",
              "      <th>Topic9</th>\n",
              "    </tr>\n",
              "  </thead>\n",
              "  <tbody>\n",
              "    <tr>\n",
              "      <th>product</th>\n",
              "      <td>138.230776</td>\n",
              "      <td>111.792489</td>\n",
              "      <td>26.707536</td>\n",
              "      <td>80.913273</td>\n",
              "      <td>0.100016</td>\n",
              "      <td>748.257160</td>\n",
              "      <td>7.150199</td>\n",
              "      <td>95.930229</td>\n",
              "      <td>0.100019</td>\n",
              "      <td>868.219736</td>\n",
              "    </tr>\n",
              "    <tr>\n",
              "      <th>supplement</th>\n",
              "      <td>2.346182</td>\n",
              "      <td>0.100007</td>\n",
              "      <td>5.537235</td>\n",
              "      <td>0.100078</td>\n",
              "      <td>0.100007</td>\n",
              "      <td>0.100023</td>\n",
              "      <td>0.100006</td>\n",
              "      <td>89.083610</td>\n",
              "      <td>0.100014</td>\n",
              "      <td>587.826517</td>\n",
              "    </tr>\n",
              "    <tr>\n",
              "      <th>take</th>\n",
              "      <td>26.590249</td>\n",
              "      <td>50.151392</td>\n",
              "      <td>0.100019</td>\n",
              "      <td>61.859306</td>\n",
              "      <td>0.100020</td>\n",
              "      <td>191.417409</td>\n",
              "      <td>0.100017</td>\n",
              "      <td>317.992922</td>\n",
              "      <td>0.100012</td>\n",
              "      <td>565.471350</td>\n",
              "    </tr>\n",
              "    <tr>\n",
              "      <th>good</th>\n",
              "      <td>35.566626</td>\n",
              "      <td>219.280036</td>\n",
              "      <td>166.995527</td>\n",
              "      <td>8.926843</td>\n",
              "      <td>0.100019</td>\n",
              "      <td>742.733617</td>\n",
              "      <td>20.507357</td>\n",
              "      <td>144.720387</td>\n",
              "      <td>0.100022</td>\n",
              "      <td>509.432629</td>\n",
              "    </tr>\n",
              "    <tr>\n",
              "      <th>recommend</th>\n",
              "      <td>64.826829</td>\n",
              "      <td>141.523230</td>\n",
              "      <td>26.263860</td>\n",
              "      <td>27.127655</td>\n",
              "      <td>0.100018</td>\n",
              "      <td>408.773867</td>\n",
              "      <td>0.109371</td>\n",
              "      <td>66.277859</td>\n",
              "      <td>0.100019</td>\n",
              "      <td>442.654143</td>\n",
              "    </tr>\n",
              "    <tr>\n",
              "      <th>help</th>\n",
              "      <td>265.022380</td>\n",
              "      <td>25.283697</td>\n",
              "      <td>0.100035</td>\n",
              "      <td>73.360660</td>\n",
              "      <td>0.100064</td>\n",
              "      <td>207.443945</td>\n",
              "      <td>0.100067</td>\n",
              "      <td>208.674124</td>\n",
              "      <td>0.100013</td>\n",
              "      <td>387.113487</td>\n",
              "    </tr>\n",
              "    <tr>\n",
              "      <th>work</th>\n",
              "      <td>181.159619</td>\n",
              "      <td>199.005822</td>\n",
              "      <td>21.938492</td>\n",
              "      <td>83.442807</td>\n",
              "      <td>0.100018</td>\n",
              "      <td>1032.368011</td>\n",
              "      <td>103.830646</td>\n",
              "      <td>205.744583</td>\n",
              "      <td>1.695035</td>\n",
              "      <td>359.517687</td>\n",
              "    </tr>\n",
              "    <tr>\n",
              "      <th>vitamin</th>\n",
              "      <td>0.100030</td>\n",
              "      <td>0.100015</td>\n",
              "      <td>0.100015</td>\n",
              "      <td>0.100006</td>\n",
              "      <td>0.100008</td>\n",
              "      <td>0.100032</td>\n",
              "      <td>0.100004</td>\n",
              "      <td>73.885057</td>\n",
              "      <td>0.100008</td>\n",
              "      <td>334.104014</td>\n",
              "    </tr>\n",
              "    <tr>\n",
              "      <th>great</th>\n",
              "      <td>105.927594</td>\n",
              "      <td>255.755526</td>\n",
              "      <td>205.311546</td>\n",
              "      <td>46.908939</td>\n",
              "      <td>0.100025</td>\n",
              "      <td>794.197481</td>\n",
              "      <td>34.706414</td>\n",
              "      <td>73.870646</td>\n",
              "      <td>6.656202</td>\n",
              "      <td>327.492316</td>\n",
              "    </tr>\n",
              "    <tr>\n",
              "      <th>price</th>\n",
              "      <td>5.904884</td>\n",
              "      <td>99.914768</td>\n",
              "      <td>33.223063</td>\n",
              "      <td>0.100025</td>\n",
              "      <td>0.100018</td>\n",
              "      <td>703.912808</td>\n",
              "      <td>17.171621</td>\n",
              "      <td>0.100037</td>\n",
              "      <td>13.750595</td>\n",
              "      <td>317.302308</td>\n",
              "    </tr>\n",
              "  </tbody>\n",
              "</table>\n",
              "</div>"
            ],
            "text/plain": [
              "                Topic0      Topic1  ...     Topic8      Topic9\n",
              "product     138.230776  111.792489  ...   0.100019  868.219736\n",
              "supplement    2.346182    0.100007  ...   0.100014  587.826517\n",
              "take         26.590249   50.151392  ...   0.100012  565.471350\n",
              "good         35.566626  219.280036  ...   0.100022  509.432629\n",
              "recommend    64.826829  141.523230  ...   0.100019  442.654143\n",
              "help        265.022380   25.283697  ...   0.100013  387.113487\n",
              "work        181.159619  199.005822  ...   1.695035  359.517687\n",
              "vitamin       0.100030    0.100015  ...   0.100008  334.104014\n",
              "great       105.927594  255.755526  ...   6.656202  327.492316\n",
              "price         5.904884   99.914768  ...  13.750595  317.302308\n",
              "\n",
              "[10 rows x 10 columns]"
            ]
          },
          "metadata": {
            "tags": []
          },
          "execution_count": 45
        }
      ]
    },
    {
      "cell_type": "markdown",
      "metadata": {
        "id": "-fBeKN-HXWi_",
        "colab_type": "text"
      },
      "source": [
        "##Conclusion"
      ]
    },
    {
      "cell_type": "markdown",
      "metadata": {
        "id": "bdUl9Z7BXYRN",
        "colab_type": "text"
      },
      "source": [
        "* Preprocessing data \n",
        " * We only keep the reviewtext column to do the sentiment analysis\n",
        " * Since the rating ranges from 1 to 5, to build the binary model, we consider rating higher or equals to 4 indicates the customer is satisfied, otherwise we consider the customer is not satisfied.\n",
        " * Remain meaningful words with Lemmatizer. By keeping only meaningful words, you can making following model building process more efficient\n",
        " * TF-IDF help to easy convert text to vector and calculate each keywords' weights within a matrix\n",
        "\n",
        "* Classification model buidling \n",
        " * Three Machine Learning Models are used for prediction\n",
        " * Grid search is applied to increase the models performance\n",
        " * Three models are evaluated on precision, recall, F-1 score and ROC-AUC\n",
        " * In this problem, we want to minimize false positives (misclassification of a dissatisfied customer into satisfied), which is to maximize the precision of our prediction\n",
        " * Overall logistic regression performs best with the highest accuracy and precision\n",
        "\n",
        "* LDA model interpretation\n",
        " * By implementing LDA model, you can easily extract the top topics in those reviews\n",
        " * By looking at key words of each topics, you can quickly understand customers' overall feedback on products and understand the market trend"
      ]
    }
  ]
}